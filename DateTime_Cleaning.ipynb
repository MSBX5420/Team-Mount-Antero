{
  "nbformat": 4,
  "nbformat_minor": 0,
  "metadata": {
    "colab": {
      "name": "DateTime_Cleaning.ipynb",
      "provenance": []
    },
    "kernelspec": {
      "name": "python3",
      "display_name": "Python 3"
    }
  },
  "cells": [
    {
      "cell_type": "code",
      "metadata": {
        "id": "wEHLLlLYVr4I",
        "colab_type": "code",
        "colab": {
          "base_uri": "https://localhost:8080/",
          "height": 54
        },
        "outputId": "81351c97-d030-45dc-fde6-0ed5eca0b7cc"
      },
      "source": [
        "from __future__ import print_function\n",
        "import sys\n",
        "from operator import add\n",
        "from pyspark.sql import SparkSession\n",
        "from pyspark.sql.types import *\n",
        "from pyspark.sql.functions import to_date\n",
        "\n",
        "spark = SparkSession.builder.getOrCreate()\n",
        "sc = spark.sparkContext\n",
        "\n",
        "from google.colab import drive\n",
        "drive.mount('/content/drive')"
      ],
      "execution_count": 32,
      "outputs": [
        {
          "output_type": "stream",
          "text": [
            "Drive already mounted at /content/drive; to attempt to forcibly remount, call drive.mount(\"/content/drive\", force_remount=True).\n"
          ],
          "name": "stdout"
        }
      ]
    },
    {
      "cell_type": "code",
      "metadata": {
        "id": "r2gylv7VV1kg",
        "colab_type": "code",
        "colab": {}
      },
      "source": [
        "df = spark.read.csv('drive/My Drive/Colab Notebooks/news.csv', inferSchema=True, header=True)"
      ],
      "execution_count": 0,
      "outputs": []
    },
    {
      "cell_type": "code",
      "metadata": {
        "id": "mBIZOFK5f_h7",
        "colab_type": "code",
        "colab": {
          "base_uri": "https://localhost:8080/",
          "height": 474
        },
        "outputId": "e09100c9-517f-43f9-fab5-b286c4adbce6"
      },
      "source": [
        "df.show()"
      ],
      "execution_count": 3,
      "outputs": [
        {
          "output_type": "stream",
          "text": [
            "+---+--------------------+--------------------+--------------------+--------------------+--------------------+--------------------+\n",
            "|_c0|             authors|               title|        publish_date|         description|                text|                 url|\n",
            "+---+--------------------+--------------------+--------------------+--------------------+--------------------+--------------------+\n",
            "|  0|        ['Cbc News']|Coronavirus a 'wa...| 2020-03-27 08:00:00|Canadian pharmaci...|\"Canadian pharmac...|\"\" he said.  Tadr...|\n",
            "|  1|        ['Cbc News']|Yukon gov't names...| 2020-03-27 01:45:00|The Yukon governm...|\"The Yukon govern...|  from March 9 to 13|\n",
            "|  2|['The Associated ...|U.S. Senate passe...| 2020-03-26 05:13:00|The Senate has pa...|\"The Senate late ...|\"\" said Democrati...|\n",
            "|  3|        ['Cbc News']|Coronavirus: The ...| 2020-03-27 00:36:00|Scientists around...|\"Scientists aroun...| \"\" said Zarychanski|\n",
            "|  4|        ['Cbc News']|The latest on the...| 2020-03-26 20:57:00|The latest on the...|\"    Trudeau says...|\"\" Prime Minister...|\n",
            "|  5|['Mark Gollom Is ...|'Worse' pandemic ...| 2020-03-27 08:00:00|The continued exi...|\"The continued ex...| there is nothing...|\n",
            "|  6|        ['Cbc News']|What you need to ...| 2020-03-27 08:00:00|CBC Ottawa's late...|Recent developmen...|https://www.cbc.c...|\n",
            "|  7|['The Associated ...|Michigan hospital...| 2020-03-26 11:02:00|Michigan hospital...|Michigan hospital...|https://www.cbc.c...|\n",
            "|  8| ['Thomson Reuters']|U.S. coronavirus ...| 2020-03-26 14:55:00|The number of con...|\"The number of co...| the EPA does not...|\n",
            "|  9|['Leah Hendry Is ...|'Avoid the emerge...| 2020-03-27 08:00:00|Montreal's Jewish...|\"The Jewish Gener...|\"\" said Dupuis. \"...|\n",
            "| 10|['Reporter', 'Web...|COVID-19 in Sask:...| 2020-03-26 14:18:00|The Saskatchewan ...|\" Three Saskatche...| 2020 between 2 p...|\n",
            "| 11|\"['Jorge Barrera ...| 'Jorgebarrera Or...|            'Follow'| 'Jorgebarrera On...|Manitoba chiefs o...| 2020-03-27 08:01:00|\n",
            "| 12|['Colleen M. Floo...|How invoking the ...| 2020-03-27 08:00:00|Under the Emergen...|\"This column is a...|                test|\n",
            "| 14|\"['Producer', 'Cb...| 'As The Late Lin...| 'James Dunne On ...|In Ontario, const...| 2020-03-27 08:00:00|Construction is o...|\n",
            "| 15|['Dan Mcgarvey Is...|Alberta's film in...| 2020-03-26 12:00:00|Alberta’s TV and ...|\"Alberta's TV and...|\"\" said Robert Hi...|\n",
            "| 16|\"['Cbc News New Y...| 'The World Cup I...| 'He Spent Eight ...| 'The Rob Ford Cr...|'Like a war zone'...| 2020-03-27 08:00:00|\n",
            "| 17|                  []|N.L. fisheries re...| 2020-03-27 08:30:00|A Memorial Univer...|\"A Memorial Unive...|\"\" said Chuenpagd...|\n",
            "| 18|                  []|1st death, 3 new ...| 2020-03-11 00:15:00|Here's today's in...|\"Manitoba is unde...|\"\" Roussin said o...|\n",
            "| 19|\"['Investigative ...| 'Caroline.Bargho...|         'Twitter']\"|Medical experts w...| 2020-03-26 08:00:00|Medical experts a...|\n",
            "| 20|['Hadeel Ibrahim ...|It's 'too late' f...| 2020-03-27 08:00:00|New Brunswick has...|\"New Brunswick ha...| a province could...|\n",
            "+---+--------------------+--------------------+--------------------+--------------------+--------------------+--------------------+\n",
            "only showing top 20 rows\n",
            "\n"
          ],
          "name": "stdout"
        }
      ]
    },
    {
      "cell_type": "code",
      "metadata": {
        "id": "q3s3cWrQgJNf",
        "colab_type": "code",
        "colab": {
          "base_uri": "https://localhost:8080/",
          "height": 454
        },
        "outputId": "bc594034-d906-4623-8dda-e49a31515374"
      },
      "source": [
        "df.select(\"publish_date\").show()"
      ],
      "execution_count": 17,
      "outputs": [
        {
          "output_type": "stream",
          "text": [
            "+--------------------+\n",
            "|        publish_date|\n",
            "+--------------------+\n",
            "| 2020-03-27 08:00:00|\n",
            "| 2020-03-27 01:45:00|\n",
            "| 2020-03-26 05:13:00|\n",
            "| 2020-03-27 00:36:00|\n",
            "| 2020-03-26 20:57:00|\n",
            "| 2020-03-27 08:00:00|\n",
            "| 2020-03-27 08:00:00|\n",
            "| 2020-03-26 11:02:00|\n",
            "| 2020-03-26 14:55:00|\n",
            "| 2020-03-27 08:00:00|\n",
            "| 2020-03-26 14:18:00|\n",
            "|            'Follow'|\n",
            "| 2020-03-27 08:00:00|\n",
            "| 'James Dunne On ...|\n",
            "| 2020-03-26 12:00:00|\n",
            "| 'He Spent Eight ...|\n",
            "| 2020-03-27 08:30:00|\n",
            "| 2020-03-11 00:15:00|\n",
            "|         'Twitter']\"|\n",
            "| 2020-03-27 08:00:00|\n",
            "+--------------------+\n",
            "only showing top 20 rows\n",
            "\n"
          ],
          "name": "stdout"
        }
      ]
    },
    {
      "cell_type": "code",
      "metadata": {
        "id": "K1KKuT0tryQF",
        "colab_type": "code",
        "colab": {
          "base_uri": "https://localhost:8080/",
          "height": 474
        },
        "outputId": "da79aa75-0814-45cb-a13f-87d00edf62ee"
      },
      "source": [
        "#convert timestamp to date\n",
        "df2 = df.withColumn(\"date\",\n",
        "              to_date(df.publish_date, \"yyyy-MM-dd\"))\n",
        "\n",
        "#pull hour from timestamp\n",
        "from pyspark.sql.functions import col, hour, minute, second\n",
        "\n",
        "df2 = df2.withColumn(\"hour\", hour(col(\"publish_date\"))).withColumn(\"minute\", minute(col(\"publish_date\"))).withColumn(\"second\", second(col(\"publish_date\")))\n",
        "\n",
        "df2.show()"
      ],
      "execution_count": 61,
      "outputs": [
        {
          "output_type": "stream",
          "text": [
            "+---+--------------------+--------------------+--------------------+--------------------+--------------------+--------------------+----------+----+------+------+\n",
            "|_c0|             authors|               title|        publish_date|         description|                text|                 url|      date|hour|minute|second|\n",
            "+---+--------------------+--------------------+--------------------+--------------------+--------------------+--------------------+----------+----+------+------+\n",
            "|  0|        ['Cbc News']|Coronavirus a 'wa...| 2020-03-27 08:00:00|Canadian pharmaci...|\"Canadian pharmac...|\"\" he said.  Tadr...|2020-03-27|   8|     0|     0|\n",
            "|  1|        ['Cbc News']|Yukon gov't names...| 2020-03-27 01:45:00|The Yukon governm...|\"The Yukon govern...|  from March 9 to 13|2020-03-27|   1|    45|     0|\n",
            "|  2|['The Associated ...|U.S. Senate passe...| 2020-03-26 05:13:00|The Senate has pa...|\"The Senate late ...|\"\" said Democrati...|2020-03-26|   5|    13|     0|\n",
            "|  3|        ['Cbc News']|Coronavirus: The ...| 2020-03-27 00:36:00|Scientists around...|\"Scientists aroun...| \"\" said Zarychanski|2020-03-27|   0|    36|     0|\n",
            "|  4|        ['Cbc News']|The latest on the...| 2020-03-26 20:57:00|The latest on the...|\"    Trudeau says...|\"\" Prime Minister...|2020-03-26|  20|    57|     0|\n",
            "|  5|['Mark Gollom Is ...|'Worse' pandemic ...| 2020-03-27 08:00:00|The continued exi...|\"The continued ex...| there is nothing...|2020-03-27|   8|     0|     0|\n",
            "|  6|        ['Cbc News']|What you need to ...| 2020-03-27 08:00:00|CBC Ottawa's late...|Recent developmen...|https://www.cbc.c...|2020-03-27|   8|     0|     0|\n",
            "|  7|['The Associated ...|Michigan hospital...| 2020-03-26 11:02:00|Michigan hospital...|Michigan hospital...|https://www.cbc.c...|2020-03-26|  11|     2|     0|\n",
            "|  8| ['Thomson Reuters']|U.S. coronavirus ...| 2020-03-26 14:55:00|The number of con...|\"The number of co...| the EPA does not...|2020-03-26|  14|    55|     0|\n",
            "|  9|['Leah Hendry Is ...|'Avoid the emerge...| 2020-03-27 08:00:00|Montreal's Jewish...|\"The Jewish Gener...|\"\" said Dupuis. \"...|2020-03-27|   8|     0|     0|\n",
            "| 10|['Reporter', 'Web...|COVID-19 in Sask:...| 2020-03-26 14:18:00|The Saskatchewan ...|\" Three Saskatche...| 2020 between 2 p...|2020-03-26|  14|    18|     0|\n",
            "| 11|\"['Jorge Barrera ...| 'Jorgebarrera Or...|            'Follow'| 'Jorgebarrera On...|Manitoba chiefs o...| 2020-03-27 08:01:00|      null|null|  null|  null|\n",
            "| 12|['Colleen M. Floo...|How invoking the ...| 2020-03-27 08:00:00|Under the Emergen...|\"This column is a...|                test|2020-03-27|   8|     0|     0|\n",
            "| 14|\"['Producer', 'Cb...| 'As The Late Lin...| 'James Dunne On ...|In Ontario, const...| 2020-03-27 08:00:00|Construction is o...|      null|null|  null|  null|\n",
            "| 15|['Dan Mcgarvey Is...|Alberta's film in...| 2020-03-26 12:00:00|Alberta’s TV and ...|\"Alberta's TV and...|\"\" said Robert Hi...|2020-03-26|  12|     0|     0|\n",
            "| 16|\"['Cbc News New Y...| 'The World Cup I...| 'He Spent Eight ...| 'The Rob Ford Cr...|'Like a war zone'...| 2020-03-27 08:00:00|      null|null|  null|  null|\n",
            "| 17|                  []|N.L. fisheries re...| 2020-03-27 08:30:00|A Memorial Univer...|\"A Memorial Unive...|\"\" said Chuenpagd...|2020-03-27|   8|    30|     0|\n",
            "| 18|                  []|1st death, 3 new ...| 2020-03-11 00:15:00|Here's today's in...|\"Manitoba is unde...|\"\" Roussin said o...|2020-03-11|   0|    15|     0|\n",
            "| 19|\"['Investigative ...| 'Caroline.Bargho...|         'Twitter']\"|Medical experts w...| 2020-03-26 08:00:00|Medical experts a...|      null|null|  null|  null|\n",
            "| 20|['Hadeel Ibrahim ...|It's 'too late' f...| 2020-03-27 08:00:00|New Brunswick has...|\"New Brunswick ha...| a province could...|2020-03-27|   8|     0|     0|\n",
            "+---+--------------------+--------------------+--------------------+--------------------+--------------------+--------------------+----------+----+------+------+\n",
            "only showing top 20 rows\n",
            "\n"
          ],
          "name": "stdout"
        }
      ]
    },
    {
      "cell_type": "code",
      "metadata": {
        "id": "WM7TcnGimIQZ",
        "colab_type": "code",
        "colab": {
          "base_uri": "https://localhost:8080/",
          "height": 474
        },
        "outputId": "4b2253ed-2736-45c0-9cd8-857c1415280c"
      },
      "source": [
        "df3 = df2.filter(df2.hour.isNotNull())\n",
        "df3 = df3.filter(df3.authors!=\"[]\")\n",
        "df3.show()"
      ],
      "execution_count": 68,
      "outputs": [
        {
          "output_type": "stream",
          "text": [
            "+---+--------------------+--------------------+-------------------+--------------------+--------------------+--------------------+----------+----+------+------+\n",
            "|_c0|             authors|               title|       publish_date|         description|                text|                 url|      date|hour|minute|second|\n",
            "+---+--------------------+--------------------+-------------------+--------------------+--------------------+--------------------+----------+----+------+------+\n",
            "|  0|        ['Cbc News']|Coronavirus a 'wa...|2020-03-27 08:00:00|Canadian pharmaci...|\"Canadian pharmac...|\"\" he said.  Tadr...|2020-03-27|   8|     0|     0|\n",
            "|  1|        ['Cbc News']|Yukon gov't names...|2020-03-27 01:45:00|The Yukon governm...|\"The Yukon govern...|  from March 9 to 13|2020-03-27|   1|    45|     0|\n",
            "|  2|['The Associated ...|U.S. Senate passe...|2020-03-26 05:13:00|The Senate has pa...|\"The Senate late ...|\"\" said Democrati...|2020-03-26|   5|    13|     0|\n",
            "|  3|        ['Cbc News']|Coronavirus: The ...|2020-03-27 00:36:00|Scientists around...|\"Scientists aroun...| \"\" said Zarychanski|2020-03-27|   0|    36|     0|\n",
            "|  4|        ['Cbc News']|The latest on the...|2020-03-26 20:57:00|The latest on the...|\"    Trudeau says...|\"\" Prime Minister...|2020-03-26|  20|    57|     0|\n",
            "|  5|['Mark Gollom Is ...|'Worse' pandemic ...|2020-03-27 08:00:00|The continued exi...|\"The continued ex...| there is nothing...|2020-03-27|   8|     0|     0|\n",
            "|  6|        ['Cbc News']|What you need to ...|2020-03-27 08:00:00|CBC Ottawa's late...|Recent developmen...|https://www.cbc.c...|2020-03-27|   8|     0|     0|\n",
            "|  7|['The Associated ...|Michigan hospital...|2020-03-26 11:02:00|Michigan hospital...|Michigan hospital...|https://www.cbc.c...|2020-03-26|  11|     2|     0|\n",
            "|  8| ['Thomson Reuters']|U.S. coronavirus ...|2020-03-26 14:55:00|The number of con...|\"The number of co...| the EPA does not...|2020-03-26|  14|    55|     0|\n",
            "|  9|['Leah Hendry Is ...|'Avoid the emerge...|2020-03-27 08:00:00|Montreal's Jewish...|\"The Jewish Gener...|\"\" said Dupuis. \"...|2020-03-27|   8|     0|     0|\n",
            "| 10|['Reporter', 'Web...|COVID-19 in Sask:...|2020-03-26 14:18:00|The Saskatchewan ...|\" Three Saskatche...| 2020 between 2 p...|2020-03-26|  14|    18|     0|\n",
            "| 12|['Colleen M. Floo...|How invoking the ...|2020-03-27 08:00:00|Under the Emergen...|\"This column is a...|                test|2020-03-27|   8|     0|     0|\n",
            "| 15|['Dan Mcgarvey Is...|Alberta's film in...|2020-03-26 12:00:00|Alberta’s TV and ...|\"Alberta's TV and...|\"\" said Robert Hi...|2020-03-26|  12|     0|     0|\n",
            "| 20|['Hadeel Ibrahim ...|It's 'too late' f...|2020-03-27 08:00:00|New Brunswick has...|\"New Brunswick ha...| a province could...|2020-03-27|   8|     0|     0|\n",
            "| 21|        ['Cbc News']|The latest on the...|2020-03-25 21:03:00|The latest on the...|\"    Parliament p...|            got sick|2020-03-25|  21|     3|     0|\n",
            "| 22|['The Associated ...|Prince Charles te...|2020-03-25 11:17:00|Prince Charles ha...|\"Prince Charles, ...|\"\" Clarence House...|2020-03-25|  11|    17|     0|\n",
            "| 25|['Sam Samson Is A...|COVID-19 forces s...|2020-03-26 00:38:00|Selkirk Avenue is...|\"Life has changed...| and services bei...|2020-03-26|   0|    38|     0|\n",
            "| 26|['Senior Writer',...|How bad will Cana...|2020-03-27 08:00:00|Canada is only no...|\"The black swan h...| as there's littl...|2020-03-27|   8|     0|     0|\n",
            "| 27| ['Thomson Reuters']|'You have to assu...|2020-03-25 17:54:00|Jackson Browne ha...|\"Jackson Browne h...|\"\" Browne told Ro...|2020-03-25|  17|    54|     0|\n",
            "| 28|        ['Cbc News']|From shopping to ...|2020-03-23 18:22:00|As the number of ...|From shuttered bu...|https://www.cbc.c...|2020-03-23|  18|    22|     0|\n",
            "+---+--------------------+--------------------+-------------------+--------------------+--------------------+--------------------+----------+----+------+------+\n",
            "only showing top 20 rows\n",
            "\n"
          ],
          "name": "stdout"
        }
      ]
    },
    {
      "cell_type": "code",
      "metadata": {
        "id": "HFihjLcr0WCA",
        "colab_type": "code",
        "colab": {
          "base_uri": "https://localhost:8080/",
          "height": 454
        },
        "outputId": "e3b7349f-f16b-4a97-81cf-1bbe3536a901"
      },
      "source": [
        "df3.select(\"hour\").show()"
      ],
      "execution_count": 94,
      "outputs": [
        {
          "output_type": "stream",
          "text": [
            "+----+\n",
            "|hour|\n",
            "+----+\n",
            "|   8|\n",
            "|   1|\n",
            "|   5|\n",
            "|   0|\n",
            "|  20|\n",
            "|   8|\n",
            "|   8|\n",
            "|  11|\n",
            "|  14|\n",
            "|   8|\n",
            "|  14|\n",
            "|   8|\n",
            "|  12|\n",
            "|   8|\n",
            "|  21|\n",
            "|  11|\n",
            "|   0|\n",
            "|   8|\n",
            "|  17|\n",
            "|  18|\n",
            "+----+\n",
            "only showing top 20 rows\n",
            "\n"
          ],
          "name": "stdout"
        }
      ]
    },
    {
      "cell_type": "code",
      "metadata": {
        "id": "84E63UDx7XpI",
        "colab_type": "code",
        "colab": {
          "base_uri": "https://localhost:8080/",
          "height": 454
        },
        "outputId": "73271c9c-01a9-45c0-819f-6d910d844572"
      },
      "source": [
        "df3.select(\"minute\").show()"
      ],
      "execution_count": 107,
      "outputs": [
        {
          "output_type": "stream",
          "text": [
            "+------+\n",
            "|minute|\n",
            "+------+\n",
            "|     0|\n",
            "|    45|\n",
            "|    13|\n",
            "|    36|\n",
            "|    57|\n",
            "|     0|\n",
            "|     0|\n",
            "|     2|\n",
            "|    55|\n",
            "|     0|\n",
            "|    18|\n",
            "|     0|\n",
            "|     0|\n",
            "|     0|\n",
            "|     3|\n",
            "|    17|\n",
            "|    38|\n",
            "|     0|\n",
            "|    54|\n",
            "|    22|\n",
            "+------+\n",
            "only showing top 20 rows\n",
            "\n"
          ],
          "name": "stdout"
        }
      ]
    },
    {
      "cell_type": "code",
      "metadata": {
        "id": "oTbN6aMY7ZNW",
        "colab_type": "code",
        "colab": {
          "base_uri": "https://localhost:8080/",
          "height": 454
        },
        "outputId": "c6a99c5d-c27d-4f13-f789-1b8262d3d5c8"
      },
      "source": [
        "df3.select(\"second\").show()"
      ],
      "execution_count": 108,
      "outputs": [
        {
          "output_type": "stream",
          "text": [
            "+------+\n",
            "|second|\n",
            "+------+\n",
            "|     0|\n",
            "|     0|\n",
            "|     0|\n",
            "|     0|\n",
            "|     0|\n",
            "|     0|\n",
            "|     0|\n",
            "|     0|\n",
            "|     0|\n",
            "|     0|\n",
            "|     0|\n",
            "|     0|\n",
            "|     0|\n",
            "|     0|\n",
            "|     0|\n",
            "|     0|\n",
            "|     0|\n",
            "|     0|\n",
            "|     0|\n",
            "|     0|\n",
            "+------+\n",
            "only showing top 20 rows\n",
            "\n"
          ],
          "name": "stdout"
        }
      ]
    }
  ]
}