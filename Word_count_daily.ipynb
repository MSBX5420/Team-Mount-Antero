{
 "cells": [
  {
   "cell_type": "code",
   "execution_count": 45,
   "metadata": {},
   "outputs": [],
   "source": [
    "from __future__ import print_function\n",
    "from IPython.core.interactiveshell import InteractiveShell\n",
    "InteractiveShell.ast_node_interactivity = \"all\"\n",
    "from pyspark import SparkContext\n",
    "from pyspark.sql import SparkSession, SQLContext\n",
    "from pyspark.sql.types import DateType\n",
    "from pyspark.sql.functions import *\n",
    "from pyspark.sql.functions import split\n",
    "from pyspark.sql.functions import countDistinct\n",
    "from pyspark.sql import SparkSession\n",
    "from pyspark.sql import functions as F\n",
    "import pandas as pd\n",
    "from datetime import date\n",
    "import datetime\n",
    "import numpy as np\n",
    "import pandas as pd\n",
    "from os import path\n",
    "from PIL import Image\n",
    "import matplotlib.pyplot as plt\n",
    "import os\n",
    "from datetime import date\n",
    "import datetime\n",
    "import string\n",
    "import re\n",
    "import csv\n",
    "import matplotlib.ticker as ticker\n",
    "import matplotlib.animation as animation\n",
    "from IPython.display import HTML\n",
    "import pyspark\n",
    "from pyspark import SparkContext\n",
    "from pyspark import SparkConf\n",
    "from operator import add\n",
    "conf=SparkConf().setAppName(\"wordcount\").setMaster(\"local[*]\")\n",
    "sc=SparkContext.getOrCreate(conf)\n",
    "from pyspark.sql import SparkSession\n",
    "from pyspark import SQLContext\n",
    "spark = SparkSession.builder.getOrCreate()\n",
    "sc = spark.sparkContext\n",
    "sqlContext = SQLContext(sc)"
   ]
  },
  {
   "cell_type": "code",
   "execution_count": 46,
   "metadata": {},
   "outputs": [],
   "source": [
    "df = pd.read_csv(\"./news.csv\", index_col=0)\n",
    "df2 = pd.read_csv(\"./news.csv\", parse_dates = ['publish_date'],\n",
    "                                       index_col = ['publish_date'],\n",
    "                                       na_values = ['999.99'])\n",
    "df2020 = df2[df2.index.year == 2020]"
   ]
  },
  {
   "cell_type": "code",
   "execution_count": 47,
   "metadata": {},
   "outputs": [],
   "source": [
    "df202001 = df2020[df2020.index.month==1]\n",
    "df202002 = df2020[df2020.index.month==2]\n",
    "df202003 = df2020[df2020.index.month==3]"
   ]
  },
  {
   "cell_type": "code",
   "execution_count": 48,
   "metadata": {},
   "outputs": [],
   "source": [
    "df20200108 = df202001[df202001.index.day==8]\n",
    "df20200109 = df202001[df202001.index.day==9]\n",
    "df20200111 = df202001[df202001.index.day==11]\n",
    "df20200112 = df202001[df202001.index.day==12]\n",
    "df20200113 = df202001[df202001.index.day==13]\n",
    "df20200114 = df202001[df202001.index.day==14]\n",
    "df20200115 = df202001[df202001.index.day==15]\n",
    "df20200116 = df202001[df202001.index.day==16]\n",
    "df20200117 = df202001[df202001.index.day==17]\n",
    "df20200119 = df202001[df202001.index.day==19]\n",
    "df20200120 = df202001[df202001.index.day==20]\n",
    "df20200121 = df202001[df202001.index.day==21]\n",
    "df20200122 = df202001[df202001.index.day==22]\n",
    "df20200123 = df202001[df202001.index.day==23]\n",
    "df20200124 = df202001[df202001.index.day==24]\n",
    "df20200125 = df202001[df202001.index.day==25]\n",
    "df20200126 = df202001[df202001.index.day==26]\n",
    "df20200127 = df202001[df202001.index.day==27]\n",
    "df20200128 = df202001[df202001.index.day==28]\n",
    "df20200129 = df202001[df202001.index.day==29]\n",
    "df20200130 = df202001[df202001.index.day==30]\n",
    "df20200131 = df202001[df202001.index.day==31]\n",
    "df20200201 = df202002[df202002.index.day==1]\n",
    "df20200202 = df202002[df202002.index.day==2]\n",
    "df20200203 = df202002[df202002.index.day==3]\n",
    "df20200204 = df202002[df202002.index.day==4]\n",
    "df20200205 = df202002[df202002.index.day==5]\n",
    "df20200206 = df202002[df202002.index.day==6]\n",
    "df20200207 = df202002[df202002.index.day==7]\n",
    "df20200208 = df202002[df202002.index.day==8]\n",
    "df20200209 = df202002[df202002.index.day==9]\n",
    "df20200210 = df202002[df202002.index.day==10]\n",
    "df20200211 = df202002[df202002.index.day==11]\n",
    "df20200212 = df202002[df202002.index.day==12]\n",
    "df20200213 = df202002[df202002.index.day==13]\n",
    "df20200214 = df202002[df202002.index.day==14]\n",
    "df20200215 = df202002[df202002.index.day==15]\n",
    "df20200216 = df202002[df202002.index.day==16]\n",
    "df20200217 = df202002[df202002.index.day==17]\n",
    "df20200218 = df202002[df202002.index.day==18]\n",
    "df20200219 = df202002[df202002.index.day==19]\n",
    "df20200220 = df202002[df202002.index.day==20]\n",
    "df20200221 = df202002[df202002.index.day==21]\n",
    "df20200222 = df202002[df202002.index.day==22]\n",
    "df20200223 = df202002[df202002.index.day==23]\n",
    "df20200224 = df202002[df202002.index.day==24]\n",
    "df20200225 = df202002[df202002.index.day==25]\n",
    "df20200226 = df202002[df202002.index.day==26]\n",
    "df20200227 = df202002[df202002.index.day==27]\n",
    "df20200228 = df202002[df202002.index.day==28]\n",
    "df20200229 = df202002[df202002.index.day==29]\n",
    "df20200301 = df202003[df202003.index.day==1]\n",
    "df20200302 = df202003[df202003.index.day==2]\n",
    "df20200303 = df202003[df202003.index.day==3]\n",
    "df20200304 = df202003[df202003.index.day==4]\n",
    "df20200305 = df202003[df202003.index.day==5]\n",
    "df20200306 = df202003[df202003.index.day==6]\n",
    "df20200307 = df202003[df202003.index.day==7]\n",
    "df20200308 = df202003[df202003.index.day==8]\n",
    "df20200309 = df202003[df202003.index.day==9]\n",
    "df20200310 = df202003[df202003.index.day==10]\n",
    "df20200311 = df202003[df202003.index.day==11]\n",
    "df20200312 = df202003[df202003.index.day==12]\n",
    "df20200313 = df202003[df202003.index.day==13]\n",
    "df20200314 = df202003[df202003.index.day==14]\n",
    "df20200315 = df202003[df202003.index.day==15]\n",
    "df20200316 = df202003[df202003.index.day==16]\n",
    "df20200317 = df202003[df202003.index.day==17]\n",
    "df20200318 = df202003[df202003.index.day==18]\n",
    "df20200319 = df202003[df202003.index.day==19]\n",
    "df20200320 = df202003[df202003.index.day==20]\n",
    "df20200321 = df202003[df202003.index.day==21]\n",
    "df20200322 = df202003[df202003.index.day==22]\n",
    "df20200323 = df202003[df202003.index.day==23]\n",
    "df20200324 = df202003[df202003.index.day==24]\n",
    "df20200325 = df202003[df202003.index.day==25]\n",
    "df20200326 = df202003[df202003.index.day==26]\n",
    "df20200327 = df202003[df202003.index.day==27]"
   ]
  },
  {
   "cell_type": "code",
   "execution_count": 49,
   "metadata": {},
   "outputs": [],
   "source": [
    "beautifulbonnie = [\"i\",'may','https','helf', \"me\",'would',\"CBC\",\"don't\",'like','make' ,'U',\"my\", \"myself\", \"we\", \"our\",\"A\" ,\"In\",\"know\",\"ours\", \"ourselves\", \"you\", \"your\", \"yours\", \"yourself\", \"yourselves\", \"he\", \"him\", \"his\", \"himself\", \"she\", \"her\", \"hers\", \"herself\", \"it\", \"its\", \"itself\", \"they\", \"them\", \"their\", \"theirs\", \"themselves\", \"what\", \"which\", \"who\", \"whom\", \"this\", \"that\", \"these\", \"those\", \"am\",'get','But','per', 'S',\"is\", \"are\", \"was\", \"were\", \"be\", \"been\", \"being\", \"have\", \"has\", \"had\", \"having\", \"do\", \"does\", \"did\", \"doing\", \"a\", \"an\", \"the\", \"and\", \"but\", \"if\", \"or\", \"because\", \"as\", \"until\", \"while\", \"of\", \"at\", \"by\", \"for\", \"with\", \"about\", \"against\", \"between\", \"into\", \"through\", \"during\", \"before\", \"after\", \"above\", \"below\", \"to\", \"from\", \"up\", \"down\", \"in\", \"out\", \"on\", \"off\", \"over\", \"under\", \"again\", \"further\", \"then\", \"once\", \"here\", \"there\", \"when\", \"where\", \"why\", \"how\", \"all\", \"any\", \"both\", \"each\", \"few\", \"more\", \"most\", \"other\", \"some\", \"such\", \"no\", \"nor\", \"not\", \"only\", \"own\", \"same\", \"so\",\"said\",'\"','—','also','says','two','I',\"it's\",'could','The',\"Dr\",\"than\",'\"We',\"He\",'one',\"going\", \"too\", \"very\", \"s\", \"t\", \"can\", \"will\", \"just\", \"don\", \"should\", \"now\"]\n",
    "che = list(\"\\t\\().,?[]!;|@\") + ['--']"
   ]
  },
  {
   "cell_type": "code",
   "execution_count": 50,
   "metadata": {},
   "outputs": [],
   "source": [
    "def ReplaceSplit(s):\n",
    "    for c in che:\n",
    "        s = s.replace(c, \" \")\n",
    "        \n",
    "    return s.split()"
   ]
  },
  {
   "cell_type": "code",
   "execution_count": 51,
   "metadata": {},
   "outputs": [],
   "source": [
    "def daily(df):\n",
    "    con = df[['text']]\n",
    "    record_num = int(con.describe().iloc[0,0])\n",
    "    bonnieisthebest = []\n",
    "    for i in range(record_num):\n",
    "        bonnieisthebest.append(con.iloc[i,0])\n",
    "    des = open('description1.txt','w',encoding='utf-8')\n",
    "    for i in bonnieisthebest:\n",
    "        des.write(i)\n",
    "        des.write('\\n')\n",
    "    des.close()\n",
    "    meanningless = open('xmeanx.txt', 'w')\n",
    "    for w in beautifulbonnie:\n",
    "        meanningless.write(w)\n",
    "        meanningless.write('\\n')\n",
    "    meanningless.close()\n",
    "    inputRDD = sc.textFile('description1.txt')\n",
    "    stopRDD = sc.textFile('xmeanx.txt')\n",
    "    stopList = stopRDD.map(lambda x: x.strip()).collect()\n",
    "    inputRDDv1 = inputRDD.flatMap(ReplaceSplit)\n",
    "    inputRDDv2 = inputRDDv1.filter(lambda x: x not in stopList)\n",
    "    inputRDDv3 = inputRDDv2.map(lambda x: (x,1))\n",
    "    inputRDDv4 = inputRDDv3.reduceByKey(add)\n",
    "    inputRDDv5 = inputRDDv4.map(lambda x: (x[1], x[0]))\n",
    "    inputRDDv6 = inputRDDv5.sortByKey(ascending=False)\n",
    "    top10 = inputRDDv6.take(10)\n",
    "    result = sc.parallelize(top10)\n",
    "    return result.collect()"
   ]
  },
  {
   "cell_type": "code",
   "execution_count": 53,
   "metadata": {
    "scrolled": true
   },
   "outputs": [
    {
     "data": {
      "text/plain": [
       "[(6, 'Chinese'),\n",
       " (6, 'pneumonia'),\n",
       " (6, 'China'),\n",
       " (6, 'Wuhan'),\n",
       " (5, 'patients'),\n",
       " (4, 'South'),\n",
       " (4, 'woman'),\n",
       " (4, 'respiratory'),\n",
       " (4, 'illness'),\n",
       " (4, 'people')]"
      ]
     },
     "execution_count": 53,
     "metadata": {},
     "output_type": "execute_result"
    },
    {
     "data": {
      "text/plain": [
       "[(14, 'cause'),\n",
       " (10, 'pneumonia'),\n",
       " (8, 'SARS'),\n",
       " (8, 'WHO'),\n",
       " (8, 'new'),\n",
       " (8, 'virus'),\n",
       " (8, 'outbreak'),\n",
       " (8, 'Chinese'),\n",
       " (8, 'person'),\n",
       " (6, 'cases')]"
      ]
     },
     "execution_count": 53,
     "metadata": {},
     "output_type": "execute_result"
    },
    {
     "data": {
      "text/plain": [
       "[(24, 'SARS'),\n",
       " (18, 'outbreak'),\n",
       " (18, 'Wuhan'),\n",
       " (14, 'China'),\n",
       " (12, 'virus'),\n",
       " (10, 'pneumonia'),\n",
       " (10, 'Canada'),\n",
       " (7, 'Health'),\n",
       " (7, 'diseases'),\n",
       " (7, 'health')]"
      ]
     },
     "execution_count": 53,
     "metadata": {},
     "output_type": "execute_result"
    },
    {
     "data": {
      "text/plain": [
       "[(5, 'outbreak'),\n",
       " (5, 'China'),\n",
       " (4, 'market'),\n",
       " (4, 'Wuhan'),\n",
       " (4, 'SARS'),\n",
       " (4, 'WHO'),\n",
       " (3, 'others'),\n",
       " (3, 'seafood'),\n",
       " (3, 'last'),\n",
       " (3, 'week')]"
      ]
     },
     "execution_count": 53,
     "metadata": {},
     "output_type": "execute_result"
    },
    {
     "data": {
      "text/plain": [
       "[(7, 'Chinese'),\n",
       " (4, 'Wuhan'),\n",
       " (4, 'Health'),\n",
       " (4, 'WHO'),\n",
       " (3, 'woman'),\n",
       " (3, 'quarantined'),\n",
       " (3, 'coronavirus'),\n",
       " (3, 'Monday'),\n",
       " (3, 'China'),\n",
       " (3, 'monitoring')]"
      ]
     },
     "execution_count": 53,
     "metadata": {},
     "output_type": "execute_result"
    },
    {
     "data": {
      "text/plain": [
       "[(6, 'new'),\n",
       " (5, 'Chinese'),\n",
       " (5, 'virus'),\n",
       " (4, 'coronavirus'),\n",
       " (4, 'Thailand'),\n",
       " (3, 'There'),\n",
       " (3, 'human-to-human'),\n",
       " (3, 'transmission'),\n",
       " (3, 'WHO'),\n",
       " (3, 'authorities')]"
      ]
     },
     "execution_count": 53,
     "metadata": {},
     "output_type": "execute_result"
    },
    {
     "data": {
      "text/plain": [
       "[(23, 'Wuhan'),\n",
       " (23, 'virus'),\n",
       " (19, 'new'),\n",
       " (16, 'coronavirus'),\n",
       " (12, 'China'),\n",
       " (12, 'travel'),\n",
       " (12, 'man'),\n",
       " (12, 'Health'),\n",
       " (12, 'test'),\n",
       " (11, 'Chinese')]"
      ]
     },
     "execution_count": 53,
     "metadata": {},
     "output_type": "execute_result"
    },
    {
     "data": {
      "text/plain": [
       "[(9, 'Wuhan'),\n",
       " (7, 'Chinese'),\n",
       " (5, 'coronavirus'),\n",
       " (5, 'officials'),\n",
       " (5, 'Friday'),\n",
       " (5, 'Thailand'),\n",
       " (5, 'flights'),\n",
       " (4, 'screening'),\n",
       " (4, 'health'),\n",
       " (4, 'virus')]"
      ]
     },
     "execution_count": 53,
     "metadata": {},
     "output_type": "execute_result"
    },
    {
     "data": {
      "text/plain": [
       "[(15, 'Wuhan'),\n",
       " (10, 'outbreak'),\n",
       " (10, 'week'),\n",
       " (9, 'coronavirus'),\n",
       " (9, 'health'),\n",
       " (8, 'Chinese'),\n",
       " (8, 'new'),\n",
       " (8, 'first'),\n",
       " (8, 'city'),\n",
       " (8, 'trapped')]"
      ]
     },
     "execution_count": 53,
     "metadata": {},
     "output_type": "execute_result"
    },
    {
     "data": {
      "text/plain": [
       "[(27, 'coronavirus'),\n",
       " (27, 'China'),\n",
       " (24, 'outbreak'),\n",
       " (20, 'health'),\n",
       " (20, 'virus'),\n",
       " (19, 'cases'),\n",
       " (19, 'new'),\n",
       " (19, 'Wuhan'),\n",
       " (18, 'Canada'),\n",
       " (17, 'people')]"
      ]
     },
     "execution_count": 53,
     "metadata": {},
     "output_type": "execute_result"
    },
    {
     "data": {
      "text/plain": [
       "[(45, 'China'),\n",
       " (42, 'coronavirus'),\n",
       " (27, 'new'),\n",
       " (27, 'Wuhan'),\n",
       " (27, 'outbreak'),\n",
       " (27, 'health'),\n",
       " (26, 'virus'),\n",
       " (19, 'officials'),\n",
       " (18, 'cases'),\n",
       " (17, 'Canada')]"
      ]
     },
     "execution_count": 53,
     "metadata": {},
     "output_type": "execute_result"
    },
    {
     "data": {
      "text/plain": [
       "[(69, 'coronavirus'),\n",
       " (52, 'China'),\n",
       " (50, 'virus'),\n",
       " (50, 'outbreak'),\n",
       " (44, 'Wuhan'),\n",
       " (41, 'people'),\n",
       " (40, 'new'),\n",
       " (39, 'health'),\n",
       " (30, 'cases'),\n",
       " (25, 'SARS')]"
      ]
     },
     "execution_count": 53,
     "metadata": {},
     "output_type": "execute_result"
    },
    {
     "data": {
      "text/plain": [
       "[(66, 'coronavirus'),\n",
       " (61, 'China'),\n",
       " (49, 'people'),\n",
       " (48, 'new'),\n",
       " (47, 'outbreak'),\n",
       " (47, 'Wuhan'),\n",
       " (41, 'virus'),\n",
       " (39, 'health'),\n",
       " (30, 'cases'),\n",
       " (28, 'Chinese')]"
      ]
     },
     "execution_count": 53,
     "metadata": {},
     "output_type": "execute_result"
    },
    {
     "data": {
      "text/plain": [
       "[(91, 'people'),\n",
       " (90, 'coronavirus'),\n",
       " (84, 'China'),\n",
       " (59, 'cases'),\n",
       " (55, 'Wuhan'),\n",
       " (53, 'new'),\n",
       " (50, 'outbreak'),\n",
       " (50, 'virus'),\n",
       " (44, 'Health'),\n",
       " (41, 'health')]"
      ]
     },
     "execution_count": 53,
     "metadata": {},
     "output_type": "execute_result"
    },
    {
     "data": {
      "text/plain": [
       "[(67, 'coronavirus'),\n",
       " (59, 'people'),\n",
       " (47, 'China'),\n",
       " (45, 'Wuhan'),\n",
       " (44, 'health'),\n",
       " (38, 'virus'),\n",
       " (35, 'officials'),\n",
       " (34, 'cases'),\n",
       " (30, 'Health'),\n",
       " (26, 'outbreak')]"
      ]
     },
     "execution_count": 53,
     "metadata": {},
     "output_type": "execute_result"
    },
    {
     "data": {
      "text/plain": [
       "[(90, 'coronavirus'),\n",
       " (69, 'Toronto'),\n",
       " (57, 'health'),\n",
       " (56, 'case'),\n",
       " (54, 'officials'),\n",
       " (46, 'people'),\n",
       " (44, 'China'),\n",
       " (42, 'Health'),\n",
       " (40, 'virus'),\n",
       " (36, 'Canada')]"
      ]
     },
     "execution_count": 53,
     "metadata": {},
     "output_type": "execute_result"
    },
    {
     "data": {
      "text/plain": [
       "[(81, 'coronavirus'),\n",
       " (66, 'Wuhan'),\n",
       " (63, 'China'),\n",
       " (48, 'virus'),\n",
       " (45, 'people'),\n",
       " (45, 'case'),\n",
       " (39, 'health'),\n",
       " (32, 'confirmed'),\n",
       " (31, 'officials'),\n",
       " (29, 'Canada')]"
      ]
     },
     "execution_count": 53,
     "metadata": {},
     "output_type": "execute_result"
    },
    {
     "data": {
      "text/plain": [
       "[(135, 'coronavirus'),\n",
       " (99, 'China'),\n",
       " (74, 'health'),\n",
       " (72, 'people'),\n",
       " (64, 'cases'),\n",
       " (63, 'virus'),\n",
       " (60, 'case'),\n",
       " (59, 'officials'),\n",
       " (57, 'Wuhan'),\n",
       " (53, 'Health')]"
      ]
     },
     "execution_count": 53,
     "metadata": {},
     "output_type": "execute_result"
    },
    {
     "data": {
      "text/plain": [
       "[(101, 'coronavirus'),\n",
       " (91, 'China'),\n",
       " (66, 'people'),\n",
       " (61, 'outbreak'),\n",
       " (54, 'Chinese'),\n",
       " (47, 'virus'),\n",
       " (45, 'Wuhan'),\n",
       " (39, 'health'),\n",
       " (39, 'Canada'),\n",
       " (38, 'Wednesday')]"
      ]
     },
     "execution_count": 53,
     "metadata": {},
     "output_type": "execute_result"
    },
    {
     "data": {
      "text/plain": [
       "[(133, 'coronavirus'),\n",
       " (124, 'China'),\n",
       " (92, 'people'),\n",
       " (88, 'Canada'),\n",
       " (86, 'health'),\n",
       " (77, 'Canadians'),\n",
       " (75, 'virus'),\n",
       " (73, 'outbreak'),\n",
       " (65, 'home'),\n",
       " (61, 'Wuhan')]"
      ]
     },
     "execution_count": 53,
     "metadata": {},
     "output_type": "execute_result"
    },
    {
     "data": {
      "text/plain": [
       "[(154, 'coronavirus'),\n",
       " (104, 'China'),\n",
       " (91, 'health'),\n",
       " (76, 'people'),\n",
       " (73, 'Canada'),\n",
       " (57, 'virus'),\n",
       " (52, 'Health'),\n",
       " (47, 'outbreak'),\n",
       " (46, 'public'),\n",
       " (41, 'masks')]"
      ]
     },
     "execution_count": 53,
     "metadata": {},
     "output_type": "execute_result"
    },
    {
     "data": {
      "text/plain": [
       "[(34, 'Chinese'),\n",
       " (32, 'coronavirus'),\n",
       " (25, 'Canadians'),\n",
       " (23, 'Go'),\n",
       " (22, 'Canada'),\n",
       " (20, 'people'),\n",
       " (18, 'virus'),\n",
       " (17, 'health'),\n",
       " (17, 'Trudeau'),\n",
       " (16, 'misinformation')]"
      ]
     },
     "execution_count": 53,
     "metadata": {},
     "output_type": "execute_result"
    },
    {
     "data": {
      "text/plain": [
       "[(54, 'China'),\n",
       " (46, 'Wuhan'),\n",
       " (44, 'Canadians'),\n",
       " (28, 'people'),\n",
       " (25, 'virus'),\n",
       " (25, 'Canada'),\n",
       " (24, 'Sunday'),\n",
       " (23, 'cases'),\n",
       " (23, 'Chinese'),\n",
       " (23, 'coronavirus')]"
      ]
     },
     "execution_count": 53,
     "metadata": {},
     "output_type": "execute_result"
    },
    {
     "data": {
      "text/plain": [
       "[(115, 'China'),\n",
       " (80, 'Wuhan'),\n",
       " (75, 'coronavirus'),\n",
       " (65, 'virus'),\n",
       " (59, 'cases'),\n",
       " (57, 'Canada'),\n",
       " (47, 'people'),\n",
       " (47, 'Monday'),\n",
       " (47, 'hospital'),\n",
       " (39, 'Chinese')]"
      ]
     },
     "execution_count": 53,
     "metadata": {},
     "output_type": "execute_result"
    },
    {
     "data": {
      "text/plain": [
       "[(117, 'China'),\n",
       " (97, 'coronavirus'),\n",
       " (92, 'Wuhan'),\n",
       " (83, 'virus'),\n",
       " (82, 'people'),\n",
       " (58, 'Canadian'),\n",
       " (57, 'outbreak'),\n",
       " (49, 'Canadians'),\n",
       " (47, 'Canada'),\n",
       " (44, 'home')]"
      ]
     },
     "execution_count": 53,
     "metadata": {},
     "output_type": "execute_result"
    },
    {
     "data": {
      "text/plain": [
       "[(94, 'coronavirus'),\n",
       " (74, 'China'),\n",
       " (60, 'Canada'),\n",
       " (58, 'Canadians'),\n",
       " (52, 'flight'),\n",
       " (51, 'Wuhan'),\n",
       " (50, 'outbreak'),\n",
       " (47, 'people'),\n",
       " (44, 'government'),\n",
       " (42, 'family')]"
      ]
     },
     "execution_count": 53,
     "metadata": {},
     "output_type": "execute_result"
    },
    {
     "data": {
      "text/plain": [
       "[(156, 'coronavirus'),\n",
       " (107, 'China'),\n",
       " (99, 'people'),\n",
       " (74, 'outbreak'),\n",
       " (74, 'Canadians'),\n",
       " (68, 'cases'),\n",
       " (67, 'Wuhan'),\n",
       " (61, 'health'),\n",
       " (60, 'virus'),\n",
       " (51, 'Canadian')]"
      ]
     },
     "execution_count": 53,
     "metadata": {},
     "output_type": "execute_result"
    },
    {
     "data": {
      "text/plain": [
       "[(117, 'coronavirus'),\n",
       " (97, 'China'),\n",
       " (79, 'people'),\n",
       " (72, 'Canadians'),\n",
       " (65, 'Wuhan'),\n",
       " (52, 'outbreak'),\n",
       " (49, 'Canadian'),\n",
       " (46, 'Chinese'),\n",
       " (45, 'health'),\n",
       " (43, 'Canada')]"
      ]
     },
     "execution_count": 53,
     "metadata": {},
     "output_type": "execute_result"
    },
    {
     "data": {
      "text/plain": [
       "[(65, 'coronavirus'),\n",
       " (62, 'China'),\n",
       " (52, 'virus'),\n",
       " (37, 'people'),\n",
       " (37, 'cases'),\n",
       " (37, 'outbreak'),\n",
       " (31, 'Chinese'),\n",
       " (29, 'health'),\n",
       " (27, 'Africa'),\n",
       " (26, 'WHO')]"
      ]
     },
     "execution_count": 53,
     "metadata": {},
     "output_type": "execute_result"
    },
    {
     "data": {
      "text/plain": [
       "[(48, 'coronavirus'),\n",
       " (46, 'quarantine'),\n",
       " (44, 'people'),\n",
       " (43, 'ship'),\n",
       " (40, 'passengers'),\n",
       " (33, 'China'),\n",
       " (33, 'Canadians'),\n",
       " (27, 'Canada'),\n",
       " (26, 'cases'),\n",
       " (26, 'cruise')]"
      ]
     },
     "execution_count": 53,
     "metadata": {},
     "output_type": "execute_result"
    },
    {
     "data": {
      "text/plain": [
       "[(109, 'coronavirus'),\n",
       " (104, 'China'),\n",
       " (85, 'cases'),\n",
       " (62, 'Canadian'),\n",
       " (58, 'people'),\n",
       " (52, 'outbreak'),\n",
       " (48, 'Canadians'),\n",
       " (48, 'quarantine'),\n",
       " (47, 'virus'),\n",
       " (43, 'cruise')]"
      ]
     },
     "execution_count": 53,
     "metadata": {},
     "output_type": "execute_result"
    },
    {
     "data": {
      "text/plain": [
       "[(52, 'coronavirus'),\n",
       " (43, 'virus'),\n",
       " (42, 'China'),\n",
       " (37, 'outbreak'),\n",
       " (28, 'cases'),\n",
       " (24, 'people'),\n",
       " (22, 'health'),\n",
       " (21, 'new'),\n",
       " (18, 'public'),\n",
       " (18, 'Canadian')]"
      ]
     },
     "execution_count": 53,
     "metadata": {},
     "output_type": "execute_result"
    },
    {
     "data": {
      "text/plain": [
       "[(93, 'coronavirus'),\n",
       " (56, 'China'),\n",
       " (51, 'virus'),\n",
       " (48, 'cases'),\n",
       " (44, 'outbreak'),\n",
       " (43, 'health'),\n",
       " (38, 'people'),\n",
       " (34, 'Health'),\n",
       " (32, 'new'),\n",
       " (32, 'WHO')]"
      ]
     },
     "execution_count": 53,
     "metadata": {},
     "output_type": "execute_result"
    },
    {
     "data": {
      "text/plain": [
       "[(96, 'coronavirus'),\n",
       " (59, 'China'),\n",
       " (59, 'cases'),\n",
       " (41, 'people'),\n",
       " (40, 'health'),\n",
       " (34, 'Canada'),\n",
       " (30, 'outbreak'),\n",
       " (28, 'ship'),\n",
       " (28, 'virus'),\n",
       " (28, 'Canadian')]"
      ]
     },
     "execution_count": 53,
     "metadata": {},
     "output_type": "execute_result"
    },
    {
     "data": {
      "text/plain": [
       "[(111, 'China'),\n",
       " (87, 'coronavirus'),\n",
       " (68, 'health'),\n",
       " (48, 'workers'),\n",
       " (46, 'Chinese'),\n",
       " (43, 'cases'),\n",
       " (41, 'people'),\n",
       " (40, 'Canada'),\n",
       " (39, 'case'),\n",
       " (37, 'cruise')]"
      ]
     },
     "execution_count": 53,
     "metadata": {},
     "output_type": "execute_result"
    },
    {
     "data": {
      "text/plain": [
       "[(60, 'ship'),\n",
       " (47, 'coronavirus'),\n",
       " (37, 'China'),\n",
       " (30, 'Japan'),\n",
       " (28, 'quarantine'),\n",
       " (28, 'passengers'),\n",
       " (26, 'Canada'),\n",
       " (25, 'people'),\n",
       " (25, 'Canadian'),\n",
       " (25, 'cruise')]"
      ]
     },
     "execution_count": 53,
     "metadata": {},
     "output_type": "execute_result"
    },
    {
     "data": {
      "text/plain": [
       "[(23, 'passengers'),\n",
       " (23, 'coronavirus'),\n",
       " (22, 'cruise'),\n",
       " (22, 'ship'),\n",
       " (19, 'China'),\n",
       " (18, 'Sunday'),\n",
       " (18, 'Canadian'),\n",
       " (18, 'Canada'),\n",
       " (17, 'quarantine'),\n",
       " (14, 'medical')]"
      ]
     },
     "execution_count": 53,
     "metadata": {},
     "output_type": "execute_result"
    },
    {
     "data": {
      "text/plain": [
       "[(61, 'coronavirus'),\n",
       " (55, 'cruise'),\n",
       " (54, 'passengers'),\n",
       " (51, 'ship'),\n",
       " (43, 'health'),\n",
       " (30, 'China'),\n",
       " (30, 'Westerdam'),\n",
       " (30, 'officials'),\n",
       " (30, 'Canadian'),\n",
       " (27, 'virus')]"
      ]
     },
     "execution_count": 53,
     "metadata": {},
     "output_type": "execute_result"
    },
    {
     "data": {
      "text/plain": [
       "[(48, 'coronavirus'),\n",
       " (47, 'people'),\n",
       " (45, 'China'),\n",
       " (44, 'virus'),\n",
       " (44, 'ship'),\n",
       " (36, 'health'),\n",
       " (36, 'home'),\n",
       " (32, 'cases'),\n",
       " (30, 'new'),\n",
       " (30, 'quarantine')]"
      ]
     },
     "execution_count": 53,
     "metadata": {},
     "output_type": "execute_result"
    },
    {
     "data": {
      "text/plain": [
       "[(95, 'China'),\n",
       " (81, 'ship'),\n",
       " (62, 'people'),\n",
       " (61, 'coronavirus'),\n",
       " (52, 'passengers'),\n",
       " (48, 'cruise'),\n",
       " (47, 'quarantine'),\n",
       " (46, 'virus'),\n",
       " (46, 'Canadian'),\n",
       " (43, 'government')]"
      ]
     },
     "execution_count": 53,
     "metadata": {},
     "output_type": "execute_result"
    },
    {
     "data": {
      "text/plain": [
       "[(97, 'passengers'),\n",
       " (96, 'ship'),\n",
       " (93, 'coronavirus'),\n",
       " (79, 'cruise'),\n",
       " (75, 'China'),\n",
       " (73, 'cases'),\n",
       " (68, 'quarantine'),\n",
       " (65, 'Canada'),\n",
       " (60, 'people'),\n",
       " (58, 'Princess')]"
      ]
     },
     "execution_count": 53,
     "metadata": {},
     "output_type": "execute_result"
    },
    {
     "data": {
      "text/plain": [
       "[(51, 'quarantine'),\n",
       " (44, 'passengers'),\n",
       " (40, 'coronavirus'),\n",
       " (37, 'Canada'),\n",
       " (35, 'ship'),\n",
       " (34, 'outbreak'),\n",
       " (34, 'cruise'),\n",
       " (33, 'health'),\n",
       " (31, 'Canadian'),\n",
       " (31, 'Cornwall')]"
      ]
     },
     "execution_count": 53,
     "metadata": {},
     "output_type": "execute_result"
    },
    {
     "data": {
      "text/plain": [
       "[(73, 'coronavirus'),\n",
       " (62, 'people'),\n",
       " (43, 'quarantine'),\n",
       " (42, 'cases'),\n",
       " (39, 'health'),\n",
       " (38, 'Zhang'),\n",
       " (36, 'spread'),\n",
       " (33, 'outbreak'),\n",
       " (33, 'ship'),\n",
       " (32, 'China')]"
      ]
     },
     "execution_count": 53,
     "metadata": {},
     "output_type": "execute_result"
    },
    {
     "data": {
      "text/plain": [
       "[(54, 'cases'),\n",
       " (42, 'virus'),\n",
       " (41, 'coronavirus'),\n",
       " (40, 'health'),\n",
       " (40, 'people'),\n",
       " (39, 'China'),\n",
       " (30, 'case'),\n",
       " (29, 'new'),\n",
       " (29, 'Iran'),\n",
       " (28, 'province')]"
      ]
     },
     "execution_count": 53,
     "metadata": {},
     "output_type": "execute_result"
    },
    {
     "data": {
      "text/plain": [
       "[(73, 'coronavirus'),\n",
       " (61, 'cases'),\n",
       " (53, 'virus'),\n",
       " (52, 'China'),\n",
       " (49, 'cent'),\n",
       " (41, 'outbreak'),\n",
       " (41, 'South'),\n",
       " (40, 'spread'),\n",
       " (36, 'COVID-19'),\n",
       " (35, 'health')]"
      ]
     },
     "execution_count": 53,
     "metadata": {},
     "output_type": "execute_result"
    },
    {
     "data": {
      "text/plain": [
       "[(78, 'cases'),\n",
       " (70, 'coronavirus'),\n",
       " (62, 'Italy'),\n",
       " (47, 'outbreak'),\n",
       " (46, 'people'),\n",
       " (44, 'China'),\n",
       " (43, 'Canada'),\n",
       " (38, 'health'),\n",
       " (38, 'spread'),\n",
       " (37, 'pandemic')]"
      ]
     },
     "execution_count": 53,
     "metadata": {},
     "output_type": "execute_result"
    },
    {
     "data": {
      "text/plain": [
       "[(98, 'coronavirus'),\n",
       " (80, 'cases'),\n",
       " (74, 'virus'),\n",
       " (67, 'people'),\n",
       " (62, 'health'),\n",
       " (55, 'COVID-19'),\n",
       " (51, 'Iran'),\n",
       " (47, 'Wednesday'),\n",
       " (45, 'outbreak'),\n",
       " (42, 'Canada')]"
      ]
     },
     "execution_count": 53,
     "metadata": {},
     "output_type": "execute_result"
    },
    {
     "data": {
      "text/plain": [
       "[(94, 'coronavirus'),\n",
       " (78, 'cases'),\n",
       " (76, 'health'),\n",
       " (65, 'China'),\n",
       " (58, 'COVID-19'),\n",
       " (52, 'people'),\n",
       " (46, 'virus'),\n",
       " (40, 'outbreak'),\n",
       " (37, 'Canada'),\n",
       " (35, 'province')]"
      ]
     },
     "execution_count": 53,
     "metadata": {},
     "output_type": "execute_result"
    },
    {
     "data": {
      "text/plain": [
       "[(128, 'coronavirus'),\n",
       " (78, 'cases'),\n",
       " (72, 'COVID-19'),\n",
       " (72, 'people'),\n",
       " (68, 'case'),\n",
       " (62, 'outbreak'),\n",
       " (60, 'China'),\n",
       " (56, 'Friday'),\n",
       " (54, 'virus'),\n",
       " (54, 'health')]"
      ]
     },
     "execution_count": 53,
     "metadata": {},
     "output_type": "execute_result"
    },
    {
     "data": {
      "text/plain": [
       "[(97, 'coronavirus'),\n",
       " (82, 'health'),\n",
       " (81, 'people'),\n",
       " (73, 'Canada'),\n",
       " (57, 'COVID-19'),\n",
       " (56, 'Health'),\n",
       " (48, 'cases'),\n",
       " (41, 'told'),\n",
       " (40, 'public'),\n",
       " (38, 'Saturday')]"
      ]
     },
     "execution_count": 53,
     "metadata": {},
     "output_type": "execute_result"
    },
    {
     "data": {
      "text/plain": [
       "[(63, 'coronavirus'),\n",
       " (50, 'cases'),\n",
       " (47, 'health'),\n",
       " (44, 'people'),\n",
       " (44, 'Health'),\n",
       " (43, 'COVID-19'),\n",
       " (35, 'Canada'),\n",
       " (34, 'election'),\n",
       " (32, 'virus'),\n",
       " (26, 'confirmed')]"
      ]
     },
     "execution_count": 53,
     "metadata": {},
     "output_type": "execute_result"
    },
    {
     "data": {
      "text/plain": [
       "[(137, 'cases'),\n",
       " (109, 'coronavirus'),\n",
       " (88, 'COVID-19'),\n",
       " (83, 'people'),\n",
       " (79, 'health'),\n",
       " (64, 'case'),\n",
       " (59, 'new'),\n",
       " (55, 'Monday'),\n",
       " (46, 'Health'),\n",
       " (46, 'virus')]"
      ]
     },
     "execution_count": 53,
     "metadata": {},
     "output_type": "execute_result"
    },
    {
     "data": {
      "text/plain": [
       "[(194, 'cases'),\n",
       " (191, 'coronavirus'),\n",
       " (184, 'COVID-19'),\n",
       " (143, 'health'),\n",
       " (131, 'people'),\n",
       " (116, 'Tuesday'),\n",
       " (103, 'outbreak'),\n",
       " (102, 'Canada'),\n",
       " (99, 'virus'),\n",
       " (93, 'Health')]"
      ]
     },
     "execution_count": 53,
     "metadata": {},
     "output_type": "execute_result"
    },
    {
     "data": {
      "text/plain": [
       "[(124, 'coronavirus'),\n",
       " (118, 'COVID-19'),\n",
       " (115, 'people'),\n",
       " (109, 'cases'),\n",
       " (91, 'Canada'),\n",
       " (88, 'virus'),\n",
       " (79, 'outbreak'),\n",
       " (77, 'health'),\n",
       " (64, 'Wednesday'),\n",
       " (60, 'China')]"
      ]
     },
     "execution_count": 53,
     "metadata": {},
     "output_type": "execute_result"
    },
    {
     "data": {
      "text/plain": [
       "[(191, 'coronavirus'),\n",
       " (163, 'COVID-19'),\n",
       " (141, 'people'),\n",
       " (132, 'health'),\n",
       " (123, 'Canada'),\n",
       " (116, 'cases'),\n",
       " (109, 'outbreak'),\n",
       " (108, 'virus'),\n",
       " (91, 'Health'),\n",
       " (90, 'travel')]"
      ]
     },
     "execution_count": 53,
     "metadata": {},
     "output_type": "execute_result"
    },
    {
     "data": {
      "text/plain": [
       "[(218, 'coronavirus'),\n",
       " (207, 'cases'),\n",
       " (202, 'COVID-19'),\n",
       " (173, 'Friday'),\n",
       " (146, 'health'),\n",
       " (145, 'people'),\n",
       " (129, 'virus'),\n",
       " (113, 'Canada'),\n",
       " (94, 'Health'),\n",
       " (94, 'travel')]"
      ]
     },
     "execution_count": 53,
     "metadata": {},
     "output_type": "execute_result"
    },
    {
     "data": {
      "text/plain": [
       "[(136, 'coronavirus'),\n",
       " (121, 'COVID-19'),\n",
       " (86, 'health'),\n",
       " (84, 'cases'),\n",
       " (82, 'people'),\n",
       " (71, 'virus'),\n",
       " (63, 'outbreak'),\n",
       " (55, 'Canada'),\n",
       " (54, 'China'),\n",
       " (51, 'Health')]"
      ]
     },
     "execution_count": 53,
     "metadata": {},
     "output_type": "execute_result"
    },
    {
     "data": {
      "text/plain": [
       "[(105, 'COVID-19'),\n",
       " (105, 'coronavirus'),\n",
       " (79, 'health'),\n",
       " (72, 'cases'),\n",
       " (70, 'people'),\n",
       " (61, 'Alberta'),\n",
       " (51, 'government'),\n",
       " (51, 'Canada'),\n",
       " (50, 'virus'),\n",
       " (47, 'home')]"
      ]
     },
     "execution_count": 53,
     "metadata": {},
     "output_type": "execute_result"
    },
    {
     "data": {
      "text/plain": [
       "[(138, 'COVID-19'),\n",
       " (128, 'Monday'),\n",
       " (124, 'coronavirus'),\n",
       " (100, 'health'),\n",
       " (87, 'people'),\n",
       " (84, 'Canada'),\n",
       " (63, 'Health'),\n",
       " (62, 'virus'),\n",
       " (61, 'public'),\n",
       " (61, 'cases')]"
      ]
     },
     "execution_count": 53,
     "metadata": {},
     "output_type": "execute_result"
    },
    {
     "data": {
      "text/plain": [
       "[(281, 'COVID-19'),\n",
       " (229, 'people'),\n",
       " (226, 'coronavirus'),\n",
       " (216, 'health'),\n",
       " (145, 'cases'),\n",
       " (132, 'Canada'),\n",
       " (125, 'virus'),\n",
       " (119, 'home'),\n",
       " (116, 'public'),\n",
       " (114, 'cruise')]"
      ]
     },
     "execution_count": 53,
     "metadata": {},
     "output_type": "execute_result"
    },
    {
     "data": {
      "text/plain": [
       "[(439, 'COVID-19'),\n",
       " (311, 'people'),\n",
       " (288, 'health'),\n",
       " (260, 'coronavirus'),\n",
       " (242, 'cases'),\n",
       " (215, 'Wednesday'),\n",
       " (186, 'Health'),\n",
       " (155, 'outbreak'),\n",
       " (154, 'government'),\n",
       " (153, 'public')]"
      ]
     },
     "execution_count": 53,
     "metadata": {},
     "output_type": "execute_result"
    },
    {
     "data": {
      "text/plain": [
       "[(586, 'COVID-19'),\n",
       " (382, 'people'),\n",
       " (335, 'health'),\n",
       " (334, 'coronavirus'),\n",
       " (259, 'Thursday'),\n",
       " (237, 'cases'),\n",
       " (212, 'Health'),\n",
       " (197, 'symptoms'),\n",
       " (187, 'Canada'),\n",
       " (178, 'travel')]"
      ]
     },
     "execution_count": 53,
     "metadata": {},
     "output_type": "execute_result"
    },
    {
     "data": {
      "text/plain": [
       "[(671, 'COVID-19'),\n",
       " (470, 'people'),\n",
       " (407, 'March'),\n",
       " (324, 'health'),\n",
       " (316, 'Friday'),\n",
       " (298, 'cancelled'),\n",
       " (284, 'coronavirus'),\n",
       " (276, 'Canada'),\n",
       " (248, 'public'),\n",
       " (212, 'travel')]"
      ]
     },
     "execution_count": 53,
     "metadata": {},
     "output_type": "execute_result"
    },
    {
     "data": {
      "text/plain": [
       "[(512, 'COVID-19'),\n",
       " (374, 'people'),\n",
       " (268, 'health'),\n",
       " (248, 'coronavirus'),\n",
       " (226, 'cases'),\n",
       " (199, 'Health'),\n",
       " (178, 'public'),\n",
       " (157, 'Saturday'),\n",
       " (155, 'March'),\n",
       " (145, 'new')]"
      ]
     },
     "execution_count": 53,
     "metadata": {},
     "output_type": "execute_result"
    },
    {
     "data": {
      "text/plain": [
       "[(336, 'COVID-19'),\n",
       " (263, 'people'),\n",
       " (206, 'health'),\n",
       " (168, 'cases'),\n",
       " (160, 'travel'),\n",
       " (156, 'Sunday'),\n",
       " (150, 'coronavirus'),\n",
       " (136, 'public'),\n",
       " (135, 'Canada'),\n",
       " (130, 'Health')]"
      ]
     },
     "execution_count": 53,
     "metadata": {},
     "output_type": "execute_result"
    },
    {
     "data": {
      "text/plain": [
       "[(703, 'COVID-19'),\n",
       " (464, 'people'),\n",
       " (405, 'Monday'),\n",
       " (399, 'health'),\n",
       " (366, 'cases'),\n",
       " (259, 'coronavirus'),\n",
       " (258, 'public'),\n",
       " (202, 'home'),\n",
       " (200, 'Canada'),\n",
       " (199, 'spread')]"
      ]
     },
     "execution_count": 53,
     "metadata": {},
     "output_type": "execute_result"
    },
    {
     "data": {
      "text/plain": [
       "[(888, 'COVID-19'),\n",
       " (743, 'people'),\n",
       " (568, 'health'),\n",
       " (421, 'home'),\n",
       " (403, 'cases'),\n",
       " (402, 'Tuesday'),\n",
       " (328, 'Canada'),\n",
       " (321, 'public'),\n",
       " (312, 'coronavirus'),\n",
       " (292, 'emergency')]"
      ]
     },
     "execution_count": 53,
     "metadata": {},
     "output_type": "execute_result"
    },
    {
     "data": {
      "text/plain": [
       "[(1215, 'COVID-19'),\n",
       " (810, 'people'),\n",
       " (648, 'health'),\n",
       " (432, 'cases'),\n",
       " (394, 'public'),\n",
       " (345, 'Wednesday'),\n",
       " (338, 'need'),\n",
       " (333, 'coronavirus'),\n",
       " (322, 'Canada'),\n",
       " (322, 'emergency')]"
      ]
     },
     "execution_count": 53,
     "metadata": {},
     "output_type": "execute_result"
    },
    {
     "data": {
      "text/plain": [
       "[(925, 'COVID-19'),\n",
       " (659, 'people'),\n",
       " (463, 'health'),\n",
       " (365, 'cases'),\n",
       " (354, 'home'),\n",
       " (323, 'need'),\n",
       " (309, 'Canada'),\n",
       " (288, 'work'),\n",
       " (277, 'Thursday'),\n",
       " (276, 'government')]"
      ]
     },
     "execution_count": 53,
     "metadata": {},
     "output_type": "execute_result"
    },
    {
     "data": {
      "text/plain": [
       "[(937, 'COVID-19'),\n",
       " (686, 'people'),\n",
       " (362, 'home'),\n",
       " (353, 'cases'),\n",
       " (333, 'health'),\n",
       " (325, 'Friday'),\n",
       " (312, 'need'),\n",
       " (287, 'new'),\n",
       " (285, 'time'),\n",
       " (274, 'government')]"
      ]
     },
     "execution_count": 53,
     "metadata": {},
     "output_type": "execute_result"
    },
    {
     "data": {
      "text/plain": [
       "[(567, 'COVID-19'),\n",
       " (433, 'people'),\n",
       " (296, 'health'),\n",
       " (222, 'public'),\n",
       " (213, 'government'),\n",
       " (191, 'cases'),\n",
       " (189, 'Health'),\n",
       " (184, 'Saturday'),\n",
       " (183, 'Canada'),\n",
       " (176, 'province')]"
      ]
     },
     "execution_count": 53,
     "metadata": {},
     "output_type": "execute_result"
    },
    {
     "data": {
      "text/plain": [
       "[(410, 'COVID-19'),\n",
       " (355, 'people'),\n",
       " (192, 'health'),\n",
       " (177, 'Sunday'),\n",
       " (176, 'cases'),\n",
       " (168, 'time'),\n",
       " (166, 'home'),\n",
       " (135, 'coronavirus'),\n",
       " (130, 'closed'),\n",
       " (118, 'new')]"
      ]
     },
     "execution_count": 53,
     "metadata": {},
     "output_type": "execute_result"
    },
    {
     "data": {
      "text/plain": [
       "[(782, 'COVID-19'),\n",
       " (659, 'people'),\n",
       " (442, 'health'),\n",
       " (419, 'home'),\n",
       " (355, 'Monday'),\n",
       " (326, 'cases'),\n",
       " (296, 'government'),\n",
       " (283, 'public'),\n",
       " (281, 'province'),\n",
       " (242, 'pandemic')]"
      ]
     },
     "execution_count": 53,
     "metadata": {},
     "output_type": "execute_result"
    },
    {
     "data": {
      "text/plain": [
       "[(862, 'COVID-19'),\n",
       " (616, 'people'),\n",
       " (406, 'health'),\n",
       " (353, 'home'),\n",
       " (322, 'cases'),\n",
       " (308, 'Canada'),\n",
       " (292, 'pandemic'),\n",
       " (264, 'Tuesday'),\n",
       " (237, 'public'),\n",
       " (232, 'work')]"
      ]
     },
     "execution_count": 53,
     "metadata": {},
     "output_type": "execute_result"
    },
    {
     "data": {
      "text/plain": [
       "[(1023, 'COVID-19'),\n",
       " (817, 'people'),\n",
       " (468, 'health'),\n",
       " (405, 'cases'),\n",
       " (336, 'home'),\n",
       " (283, 'workers'),\n",
       " (269, 'government'),\n",
       " (257, 'pandemic'),\n",
       " (253, 'care'),\n",
       " (250, 'new')]"
      ]
     },
     "execution_count": 53,
     "metadata": {},
     "output_type": "execute_result"
    },
    {
     "data": {
      "text/plain": [
       "[(849, 'COVID-19'),\n",
       " (675, 'people'),\n",
       " (410, 'health'),\n",
       " (290, 'cases'),\n",
       " (277, 'home'),\n",
       " (247, 'public'),\n",
       " (241, 'pandemic'),\n",
       " (230, 'care'),\n",
       " (229, 'workers'),\n",
       " (226, 'new')]"
      ]
     },
     "execution_count": 53,
     "metadata": {},
     "output_type": "execute_result"
    },
    {
     "data": {
      "text/plain": [
       "[(212, 'COVID-19'),\n",
       " (111, 'people'),\n",
       " (97, 'health'),\n",
       " (86, 'pandemic'),\n",
       " (62, 'home'),\n",
       " (58, 'patients'),\n",
       " (57, 'cases'),\n",
       " (57, 'workers'),\n",
       " (56, 'government'),\n",
       " (53, 'Canada')]"
      ]
     },
     "execution_count": 53,
     "metadata": {},
     "output_type": "execute_result"
    }
   ],
   "source": [
    "daily(df20200108)\n",
    "daily(df20200109)\n",
    "daily(df20200111)\n",
    "daily(df20200112)\n",
    "daily(df20200113)\n",
    "daily(df20200114)\n",
    "daily(df20200116)\n",
    "daily(df20200117)\n",
    "daily(df20200119)\n",
    "daily(df20200120)\n",
    "daily(df20200121)\n",
    "daily(df20200122)\n",
    "daily(df20200123)\n",
    "daily(df20200124)\n",
    "daily(df20200125)\n",
    "daily(df20200126)\n",
    "daily(df20200127)\n",
    "daily(df20200128)\n",
    "daily(df20200129)\n",
    "daily(df20200130)\n",
    "daily(df20200131)\n",
    "daily(df20200201)\n",
    "daily(df20200202)\n",
    "daily(df20200203)\n",
    "daily(df20200204)\n",
    "daily(df20200205)\n",
    "daily(df20200206)\n",
    "daily(df20200207)\n",
    "daily(df20200208)\n",
    "daily(df20200209)\n",
    "daily(df20200210)\n",
    "daily(df20200211)\n",
    "daily(df20200212)\n",
    "daily(df20200213)\n",
    "daily(df20200214)\n",
    "daily(df20200215)\n",
    "daily(df20200216)\n",
    "daily(df20200217)\n",
    "daily(df20200218)\n",
    "daily(df20200219)\n",
    "daily(df20200220)\n",
    "daily(df20200221)\n",
    "daily(df20200222)\n",
    "daily(df20200223)\n",
    "daily(df20200224)\n",
    "daily(df20200225)\n",
    "daily(df20200226)\n",
    "daily(df20200227)\n",
    "daily(df20200228)\n",
    "daily(df20200229)\n",
    "daily(df20200301)\n",
    "daily(df20200302)\n",
    "daily(df20200303)\n",
    "daily(df20200304)\n",
    "daily(df20200305)\n",
    "daily(df20200306)\n",
    "daily(df20200307)\n",
    "daily(df20200308)\n",
    "daily(df20200309)\n",
    "daily(df20200310)\n",
    "daily(df20200311)\n",
    "daily(df20200312)\n",
    "daily(df20200313)\n",
    "daily(df20200314)\n",
    "daily(df20200315)\n",
    "daily(df20200316)\n",
    "daily(df20200317)\n",
    "daily(df20200318)\n",
    "daily(df20200319)\n",
    "daily(df20200320)\n",
    "daily(df20200321)\n",
    "daily(df20200322)\n",
    "daily(df20200323)\n",
    "daily(df20200324)\n",
    "daily(df20200325)\n",
    "daily(df20200326)\n",
    "daily(df20200327)"
   ]
  }
 ],
 "metadata": {
  "kernelspec": {
   "display_name": "Python 3",
   "language": "python",
   "name": "python3"
  },
  "language_info": {
   "codemirror_mode": {
    "name": "ipython",
    "version": 3
   },
   "file_extension": ".py",
   "mimetype": "text/x-python",
   "name": "python",
   "nbconvert_exporter": "python",
   "pygments_lexer": "ipython3",
   "version": "3.6.7"
  }
 },
 "nbformat": 4,
 "nbformat_minor": 2
}
