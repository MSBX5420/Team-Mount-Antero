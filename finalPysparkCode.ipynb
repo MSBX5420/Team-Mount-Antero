{
 "cells": [
  {
   "cell_type": "code",
   "execution_count": 27,
   "metadata": {},
   "outputs": [],
   "source": [
    "# Pyspark Project\n",
    "\n",
    "from pyspark.sql import SparkSession\n",
    "\n",
    "spark = SparkSession.builder.getOrCreate()\n",
    "sc = spark.sparkContext"
   ]
  },
  {
   "cell_type": "code",
   "execution_count": 28,
   "metadata": {},
   "outputs": [],
   "source": [
    "from pyspark import SQLContext"
   ]
  },
  {
   "cell_type": "code",
   "execution_count": 29,
   "metadata": {},
   "outputs": [],
   "source": [
    "sqlContext = SQLContext(sc)"
   ]
  },
  {
   "cell_type": "code",
   "execution_count": 30,
   "metadata": {},
   "outputs": [],
   "source": [
    "df = sqlContext.read.csv(\"s3://msbx5420-2020/Team-Mount-Antero/news.csv\", header=True)"
   ]
  },
  {
   "cell_type": "code",
   "execution_count": 31,
   "metadata": {},
   "outputs": [
    {
     "name": "stdout",
     "output_type": "stream",
     "text": [
      "+---+--------------------+--------------------+--------------------+--------------------+--------------------+--------------------+\n",
      "|_c0|             authors|               title|        publish_date|         description|                text|                 url|\n",
      "+---+--------------------+--------------------+--------------------+--------------------+--------------------+--------------------+\n",
      "|  0|        ['Cbc News']|Coronavirus a 'wa...| 2020-03-27 08:00:00|Canadian pharmaci...|\"Canadian pharmac...|\"\" he said.  Tadr...|\n",
      "|  1|        ['Cbc News']|Yukon gov't names...| 2020-03-27 01:45:00|The Yukon governm...|\"The Yukon govern...|  from March 9 to 13|\n",
      "|  2|['The Associated ...|U.S. Senate passe...| 2020-03-26 05:13:00|The Senate has pa...|\"The Senate late ...|\"\" said Democrati...|\n",
      "|  3|        ['Cbc News']|Coronavirus: The ...| 2020-03-27 00:36:00|Scientists around...|\"Scientists aroun...| \"\" said Zarychanski|\n",
      "|  4|        ['Cbc News']|The latest on the...| 2020-03-26 20:57:00|The latest on the...|\"    Trudeau says...|\"\" Prime Minister...|\n",
      "|  5|['Mark Gollom Is ...|'Worse' pandemic ...| 2020-03-27 08:00:00|The continued exi...|\"The continued ex...| there is nothing...|\n",
      "|  6|        ['Cbc News']|What you need to ...| 2020-03-27 08:00:00|CBC Ottawa's late...|Recent developmen...|https://www.cbc.c...|\n",
      "|  7|['The Associated ...|Michigan hospital...| 2020-03-26 11:02:00|Michigan hospital...|Michigan hospital...|https://www.cbc.c...|\n",
      "|  8| ['Thomson Reuters']|U.S. coronavirus ...| 2020-03-26 14:55:00|The number of con...|\"The number of co...| the EPA does not...|\n",
      "|  9|['Leah Hendry Is ...|'Avoid the emerge...| 2020-03-27 08:00:00|Montreal's Jewish...|\"The Jewish Gener...|\"\" said Dupuis. \"...|\n",
      "| 10|['Reporter', 'Web...|COVID-19 in Sask:...| 2020-03-26 14:18:00|The Saskatchewan ...|\" Three Saskatche...| 2020 between 2 p...|\n",
      "| 11|\"['Jorge Barrera ...| 'Jorgebarrera Or...|            'Follow'| 'Jorgebarrera On...|Manitoba chiefs o...| 2020-03-27 08:01:00|\n",
      "| 12|['Colleen M. Floo...|How invoking the ...| 2020-03-27 08:00:00|Under the Emergen...|\"This column is a...|                test|\n",
      "| 14|\"['Producer', 'Cb...| 'As The Late Lin...| 'James Dunne On ...|In Ontario, const...| 2020-03-27 08:00:00|Construction is o...|\n",
      "| 15|['Dan Mcgarvey Is...|Alberta's film in...| 2020-03-26 12:00:00|Alberta’s TV and ...|\"Alberta's TV and...|\"\" said Robert Hi...|\n",
      "| 16|\"['Cbc News New Y...| 'The World Cup I...| 'He Spent Eight ...| 'The Rob Ford Cr...|'Like a war zone'...| 2020-03-27 08:00:00|\n",
      "| 17|                  []|N.L. fisheries re...| 2020-03-27 08:30:00|A Memorial Univer...|\"A Memorial Unive...|\"\" said Chuenpagd...|\n",
      "| 18|                  []|1st death, 3 new ...| 2020-03-11 00:15:00|Here's today's in...|\"Manitoba is unde...|\"\" Roussin said o...|\n",
      "| 19|\"['Investigative ...| 'Caroline.Bargho...|         'Twitter']\"|Medical experts w...| 2020-03-26 08:00:00|Medical experts a...|\n",
      "| 20|['Hadeel Ibrahim ...|It's 'too late' f...| 2020-03-27 08:00:00|New Brunswick has...|\"New Brunswick ha...| a province could...|\n",
      "+---+--------------------+--------------------+--------------------+--------------------+--------------------+--------------------+\n",
      "only showing top 20 rows\n",
      "\n"
     ]
    }
   ],
   "source": [
    "df.show()"
   ]
  },
  {
   "cell_type": "code",
   "execution_count": 32,
   "metadata": {},
   "outputs": [
    {
     "name": "stdout",
     "output_type": "stream",
     "text": [
      "root\n",
      " |-- _c0: string (nullable = true)\n",
      " |-- authors: string (nullable = true)\n",
      " |-- title: string (nullable = true)\n",
      " |-- publish_date: string (nullable = true)\n",
      " |-- description: string (nullable = true)\n",
      " |-- text: string (nullable = true)\n",
      " |-- url: string (nullable = true)\n",
      "\n"
     ]
    }
   ],
   "source": [
    "df.printSchema()"
   ]
  },
  {
   "cell_type": "code",
   "execution_count": 33,
   "metadata": {},
   "outputs": [
    {
     "name": "stdout",
     "output_type": "stream",
     "text": [
      "+--------------------+\n",
      "|        publish_date|\n",
      "+--------------------+\n",
      "| 2020-03-27 08:00:00|\n",
      "| 2020-03-27 01:45:00|\n",
      "| 2020-03-26 05:13:00|\n",
      "| 2020-03-27 00:36:00|\n",
      "| 2020-03-26 20:57:00|\n",
      "| 2020-03-27 08:00:00|\n",
      "| 2020-03-27 08:00:00|\n",
      "| 2020-03-26 11:02:00|\n",
      "| 2020-03-26 14:55:00|\n",
      "| 2020-03-27 08:00:00|\n",
      "| 2020-03-26 14:18:00|\n",
      "|            'Follow'|\n",
      "| 2020-03-27 08:00:00|\n",
      "| 'James Dunne On ...|\n",
      "| 2020-03-26 12:00:00|\n",
      "| 'He Spent Eight ...|\n",
      "| 2020-03-27 08:30:00|\n",
      "| 2020-03-11 00:15:00|\n",
      "|         'Twitter']\"|\n",
      "| 2020-03-27 08:00:00|\n",
      "+--------------------+\n",
      "only showing top 20 rows\n",
      "\n"
     ]
    }
   ],
   "source": [
    "df.select(\"publish_date\").show()"
   ]
  },
  {
   "cell_type": "code",
   "execution_count": 10,
   "metadata": {},
   "outputs": [
    {
     "name": "stdout",
     "output_type": "stream",
     "text": [
      "+--------------------+\n",
      "|                text|\n",
      "+--------------------+\n",
      "|\"Canadian pharmac...|\n",
      "|\"The Yukon govern...|\n",
      "|\"The Senate late ...|\n",
      "|\"Scientists aroun...|\n",
      "|\"    Trudeau says...|\n",
      "|\"The continued ex...|\n",
      "|Recent developmen...|\n",
      "|Michigan hospital...|\n",
      "|\"The number of co...|\n",
      "|\"The Jewish Gener...|\n",
      "|\" Three Saskatche...|\n",
      "|Manitoba chiefs o...|\n",
      "|\"This column is a...|\n",
      "| 2020-03-27 08:00:00|\n",
      "|\"Alberta's TV and...|\n",
      "|'Like a war zone'...|\n",
      "|\"A Memorial Unive...|\n",
      "|\"Manitoba is unde...|\n",
      "| 2020-03-26 08:00:00|\n",
      "|\"New Brunswick ha...|\n",
      "+--------------------+\n",
      "only showing top 20 rows\n",
      "\n"
     ]
    }
   ],
   "source": [
    "df.select(\"text\").show()"
   ]
  },
  {
   "cell_type": "code",
   "execution_count": 36,
   "metadata": {},
   "outputs": [
    {
     "name": "stdout",
     "output_type": "stream",
     "text": [
      "+----------+\n",
      "|  datetype|\n",
      "+----------+\n",
      "|2020-03-27|\n",
      "|2020-03-27|\n",
      "|2020-03-26|\n",
      "|2020-03-27|\n",
      "|2020-03-26|\n",
      "|2020-03-27|\n",
      "|2020-03-27|\n",
      "|2020-03-26|\n",
      "|2020-03-26|\n",
      "|2020-03-27|\n",
      "|2020-03-26|\n",
      "|      null|\n",
      "|2020-03-27|\n",
      "|      null|\n",
      "|2020-03-26|\n",
      "|      null|\n",
      "|2020-03-27|\n",
      "|2020-03-11|\n",
      "|      null|\n",
      "|2020-03-27|\n",
      "+----------+\n",
      "only showing top 20 rows\n",
      "\n"
     ]
    }
   ],
   "source": [
    "df = df.withColumn(\"datetype\", df[\"publish_date\"].cast('date'))\n",
    "\n",
    "df.select(\"datetype\").show()"
   ]
  },
  {
   "cell_type": "code",
   "execution_count": 11,
   "metadata": {},
   "outputs": [],
   "source": [
    "import string\n",
    "import pyspark.sql.functions as F\n",
    "from pyspark.sql.types import *"
   ]
  },
  {
   "cell_type": "code",
   "execution_count": 39,
   "metadata": {},
   "outputs": [
    {
     "name": "stdout",
     "output_type": "stream",
     "text": [
      "+----------+\n",
      "|weekOfYear|\n",
      "+----------+\n",
      "|        13|\n",
      "|        13|\n",
      "|        13|\n",
      "|        13|\n",
      "|        13|\n",
      "|        13|\n",
      "|        13|\n",
      "|        13|\n",
      "|        13|\n",
      "|        13|\n",
      "|        13|\n",
      "|      null|\n",
      "|        13|\n",
      "|      null|\n",
      "|        13|\n",
      "|      null|\n",
      "|        13|\n",
      "|        11|\n",
      "|      null|\n",
      "|        13|\n",
      "+----------+\n",
      "only showing top 20 rows\n",
      "\n"
     ]
    }
   ],
   "source": [
    "df = df.withColumn(\"weekOfYear\",F.weekofyear(df[\"datetype\"]))\n",
    "\n",
    "df.select(\"weekOfYear\").show()"
   ]
  },
  {
   "cell_type": "code",
   "execution_count": 40,
   "metadata": {},
   "outputs": [],
   "source": [
    "def wordCount(wordString):\n",
    "    res = sum([i.strip(string.punctuation).isalpha() for i in wordString.split()]) \n",
    "    return res\n",
    "\n",
    "udfWC = F.udf(wordCount, IntegerType())"
   ]
  },
  {
   "cell_type": "code",
   "execution_count": 41,
   "metadata": {},
   "outputs": [
    {
     "name": "stdout",
     "output_type": "stream",
     "text": [
      "+----------+\n",
      "|word count|\n",
      "+----------+\n",
      "|       153|\n",
      "|        97|\n",
      "|       120|\n",
      "|       239|\n",
      "|       129|\n",
      "|        43|\n",
      "|      1747|\n",
      "|       120|\n",
      "|       206|\n",
      "|       110|\n",
      "|       315|\n",
      "|         8|\n",
      "|       289|\n",
      "|         0|\n",
      "|       147|\n",
      "|        16|\n",
      "|        63|\n",
      "|       138|\n",
      "|         0|\n",
      "|        65|\n",
      "+----------+\n",
      "only showing top 20 rows\n",
      "\n"
     ]
    }
   ],
   "source": [
    "df_wc = df.withColumn(\"word count\", udfWC(\"text\"))\n",
    "\n",
    "df_wc.select(\"word count\").show()"
   ]
  },
  {
   "cell_type": "code",
   "execution_count": 65,
   "metadata": {},
   "outputs": [
    {
     "name": "stdout",
     "output_type": "stream",
     "text": [
      "+----------+-----+\n",
      "|weekOfYear|count|\n",
      "+----------+-----+\n",
      "|        12| 1145|\n",
      "|        13|  750|\n",
      "|        11|  606|\n",
      "|        10|  246|\n",
      "|      null|  219|\n",
      "+----------+-----+\n",
      "\n"
     ]
    }
   ],
   "source": [
    "wkdf = df_wc.groupBy(\"weekOfYear\").count().orderBy(\"count\", ascending=False).limit(5)\n",
    "\n",
    "wkdf.show()"
   ]
  },
  {
   "cell_type": "code",
   "execution_count": 66,
   "metadata": {},
   "outputs": [],
   "source": [
    "import pandas as pd\n",
    "import matplotlib.pyplot as plt\n",
    "\n",
    "dfPD = df_wc.toPandas()\n"
   ]
  },
  {
   "cell_type": "code",
   "execution_count": 67,
   "metadata": {},
   "outputs": [
    {
     "data": {
      "text/html": [
       "<div>\n",
       "<style scoped>\n",
       "    .dataframe tbody tr th:only-of-type {\n",
       "        vertical-align: middle;\n",
       "    }\n",
       "\n",
       "    .dataframe tbody tr th {\n",
       "        vertical-align: top;\n",
       "    }\n",
       "\n",
       "    .dataframe thead th {\n",
       "        text-align: right;\n",
       "    }\n",
       "</style>\n",
       "<table border=\"1\" class=\"dataframe\">\n",
       "  <thead>\n",
       "    <tr style=\"text-align: right;\">\n",
       "      <th></th>\n",
       "      <th>_c0</th>\n",
       "      <th>authors</th>\n",
       "      <th>title</th>\n",
       "      <th>publish_date</th>\n",
       "      <th>description</th>\n",
       "      <th>text</th>\n",
       "      <th>url</th>\n",
       "      <th>datetype</th>\n",
       "      <th>weekOfYear</th>\n",
       "      <th>word count</th>\n",
       "    </tr>\n",
       "  </thead>\n",
       "  <tbody>\n",
       "    <tr>\n",
       "      <th>0</th>\n",
       "      <td>0</td>\n",
       "      <td>['Cbc News']</td>\n",
       "      <td>Coronavirus a 'wake-up call' for Canada's pres...</td>\n",
       "      <td>2020-03-27 08:00:00</td>\n",
       "      <td>Canadian pharmacies are limiting how much medi...</td>\n",
       "      <td>\"Canadian pharmacies are limiting how much med...</td>\n",
       "      <td>\"\" he said.  Tadrous said pharmacies get their...</td>\n",
       "      <td>2020-03-27</td>\n",
       "      <td>13.0</td>\n",
       "      <td>153</td>\n",
       "    </tr>\n",
       "    <tr>\n",
       "      <th>1</th>\n",
       "      <td>1</td>\n",
       "      <td>['Cbc News']</td>\n",
       "      <td>Yukon gov't names 2 possible sources of corona...</td>\n",
       "      <td>2020-03-27 01:45:00</td>\n",
       "      <td>The Yukon government has identified two places...</td>\n",
       "      <td>\"The Yukon government has identified two place...</td>\n",
       "      <td>from March 9 to 13</td>\n",
       "      <td>2020-03-27</td>\n",
       "      <td>13.0</td>\n",
       "      <td>97</td>\n",
       "    </tr>\n",
       "    <tr>\n",
       "      <th>2</th>\n",
       "      <td>2</td>\n",
       "      <td>['The Associated Press']</td>\n",
       "      <td>U.S. Senate passes $2T coronavirus relief package</td>\n",
       "      <td>2020-03-26 05:13:00</td>\n",
       "      <td>The Senate has passed an unparalleled $2.2 tri...</td>\n",
       "      <td>\"The Senate late Wednesday passed an unparalle...</td>\n",
       "      <td>\"\" said Democratic Senate Minority Leader Chuc...</td>\n",
       "      <td>2020-03-26</td>\n",
       "      <td>13.0</td>\n",
       "      <td>120</td>\n",
       "    </tr>\n",
       "    <tr>\n",
       "      <th>3</th>\n",
       "      <td>3</td>\n",
       "      <td>['Cbc News']</td>\n",
       "      <td>Coronavirus: The latest in drug treatment and ...</td>\n",
       "      <td>2020-03-27 00:36:00</td>\n",
       "      <td>Scientists around the world are racing to find...</td>\n",
       "      <td>\"Scientists around the world are racing to fin...</td>\n",
       "      <td>\"\" said Zarychanski</td>\n",
       "      <td>2020-03-27</td>\n",
       "      <td>13.0</td>\n",
       "      <td>239</td>\n",
       "    </tr>\n",
       "    <tr>\n",
       "      <th>4</th>\n",
       "      <td>4</td>\n",
       "      <td>['Cbc News']</td>\n",
       "      <td>The latest on the coronavirus outbreak for Mar...</td>\n",
       "      <td>2020-03-26 20:57:00</td>\n",
       "      <td>The latest on the coronavirus outbreak from CB...</td>\n",
       "      <td>\"    Trudeau says rules of Quarantine Act will...</td>\n",
       "      <td>\"\" Prime Minister Justin Trudeau said today</td>\n",
       "      <td>2020-03-26</td>\n",
       "      <td>13.0</td>\n",
       "      <td>129</td>\n",
       "    </tr>\n",
       "  </tbody>\n",
       "</table>\n",
       "</div>"
      ],
      "text/plain": [
       "  _c0                   authors  \\\n",
       "0   0              ['Cbc News']   \n",
       "1   1              ['Cbc News']   \n",
       "2   2  ['The Associated Press']   \n",
       "3   3              ['Cbc News']   \n",
       "4   4              ['Cbc News']   \n",
       "\n",
       "                                               title         publish_date  \\\n",
       "0  Coronavirus a 'wake-up call' for Canada's pres...  2020-03-27 08:00:00   \n",
       "1  Yukon gov't names 2 possible sources of corona...  2020-03-27 01:45:00   \n",
       "2  U.S. Senate passes $2T coronavirus relief package  2020-03-26 05:13:00   \n",
       "3  Coronavirus: The latest in drug treatment and ...  2020-03-27 00:36:00   \n",
       "4  The latest on the coronavirus outbreak for Mar...  2020-03-26 20:57:00   \n",
       "\n",
       "                                         description  \\\n",
       "0  Canadian pharmacies are limiting how much medi...   \n",
       "1  The Yukon government has identified two places...   \n",
       "2  The Senate has passed an unparalleled $2.2 tri...   \n",
       "3  Scientists around the world are racing to find...   \n",
       "4  The latest on the coronavirus outbreak from CB...   \n",
       "\n",
       "                                                text  \\\n",
       "0  \"Canadian pharmacies are limiting how much med...   \n",
       "1  \"The Yukon government has identified two place...   \n",
       "2  \"The Senate late Wednesday passed an unparalle...   \n",
       "3  \"Scientists around the world are racing to fin...   \n",
       "4  \"    Trudeau says rules of Quarantine Act will...   \n",
       "\n",
       "                                                 url    datetype  weekOfYear  \\\n",
       "0  \"\" he said.  Tadrous said pharmacies get their...  2020-03-27        13.0   \n",
       "1                                 from March 9 to 13  2020-03-27        13.0   \n",
       "2  \"\" said Democratic Senate Minority Leader Chuc...  2020-03-26        13.0   \n",
       "3                                \"\" said Zarychanski  2020-03-27        13.0   \n",
       "4        \"\" Prime Minister Justin Trudeau said today  2020-03-26        13.0   \n",
       "\n",
       "   word count  \n",
       "0         153  \n",
       "1          97  \n",
       "2         120  \n",
       "3         239  \n",
       "4         129  "
      ]
     },
     "execution_count": 67,
     "metadata": {},
     "output_type": "execute_result"
    }
   ],
   "source": [
    "dfPD.head()"
   ]
  },
  {
   "cell_type": "code",
   "execution_count": 26,
   "metadata": {},
   "outputs": [
    {
     "data": {
      "text/plain": [
       "<Figure size 1080x1080 with 0 Axes>"
      ]
     },
     "execution_count": 26,
     "metadata": {},
     "output_type": "execute_result"
    },
    {
     "data": {
      "image/png": "[encoded data removed]",
      "text/plain": [
       "<Figure size 432x288 with 1 Axes>"
      ]
     },
     "metadata": {
      "needs_background": "light"
     },
     "output_type": "display_data"
    },
    {
     "data": {
      "text/plain": [
       "<Figure size 1080x1080 with 0 Axes>"
      ]
     },
     "metadata": {},
     "output_type": "display_data"
    }
   ],
   "source": [
    "dfPD[\"word count\"].hist()\n",
    "plt.title(\"Word Count Histogram\")\n",
    "plt.xlabel(\"Number of Articles\")\n",
    "plt.ylabel(\"Number of Words\")\n",
    "plt.figure(figsize=[15,15])"
   ]
  },
  {
   "cell_type": "code",
   "execution_count": 68,
   "metadata": {},
   "outputs": [
    {
     "data": {
      "text/html": [
       "<div>\n",
       "<style scoped>\n",
       "    .dataframe tbody tr th:only-of-type {\n",
       "        vertical-align: middle;\n",
       "    }\n",
       "\n",
       "    .dataframe tbody tr th {\n",
       "        vertical-align: top;\n",
       "    }\n",
       "\n",
       "    .dataframe thead th {\n",
       "        text-align: right;\n",
       "    }\n",
       "</style>\n",
       "<table border=\"1\" class=\"dataframe\">\n",
       "  <thead>\n",
       "    <tr style=\"text-align: right;\">\n",
       "      <th></th>\n",
       "      <th>weekOfYear</th>\n",
       "      <th>count</th>\n",
       "    </tr>\n",
       "  </thead>\n",
       "  <tbody>\n",
       "    <tr>\n",
       "      <th>0</th>\n",
       "      <td>12.0</td>\n",
       "      <td>1145</td>\n",
       "    </tr>\n",
       "    <tr>\n",
       "      <th>1</th>\n",
       "      <td>13.0</td>\n",
       "      <td>750</td>\n",
       "    </tr>\n",
       "    <tr>\n",
       "      <th>2</th>\n",
       "      <td>11.0</td>\n",
       "      <td>606</td>\n",
       "    </tr>\n",
       "    <tr>\n",
       "      <th>3</th>\n",
       "      <td>10.0</td>\n",
       "      <td>246</td>\n",
       "    </tr>\n",
       "    <tr>\n",
       "      <th>4</th>\n",
       "      <td>NaN</td>\n",
       "      <td>219</td>\n",
       "    </tr>\n",
       "  </tbody>\n",
       "</table>\n",
       "</div>"
      ],
      "text/plain": [
       "   weekOfYear  count\n",
       "0        12.0   1145\n",
       "1        13.0    750\n",
       "2        11.0    606\n",
       "3        10.0    246\n",
       "4         NaN    219"
      ]
     },
     "execution_count": 68,
     "metadata": {},
     "output_type": "execute_result"
    }
   ],
   "source": [
    "wkPD = wkdf.toPandas()\n",
    "\n",
    "wkPD\n"
   ]
  },
  {
   "cell_type": "code",
   "execution_count": null,
   "metadata": {},
   "outputs": [],
   "source": []
  }
 ],
 "metadata": {
  "kernelspec": {
   "display_name": "Python 3",
   "language": "python",
   "name": "python3"
  },
  "language_info": {
   "codemirror_mode": {
    "name": "ipython",
    "version": 3
   },
   "file_extension": ".py",
   "mimetype": "text/x-python",
   "name": "python",
   "nbconvert_exporter": "python",
   "pygments_lexer": "ipython3",
   "version": "3.7.3"
  }
 },
 "nbformat": 4,
 "nbformat_minor": 2
}
