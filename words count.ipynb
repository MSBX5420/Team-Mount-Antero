{
 "cells": [
  {
   "cell_type": "code",
   "execution_count": null,
   "metadata": {},
   "outputs": [],
   "source": [
    "import csv\n",
    "import numpy as np\n",
    "import os\n",
    "import pandas as pd"
   ]
  },
  {
   "cell_type": "code",
   "execution_count": null,
   "metadata": {},
   "outputs": [],
   "source": [
    "newsdata = pd.read_csv('news.csv') \n",
    "print(newsdata.shape)\n",
    "newsdata.describe()"
   ]
  },
  {
   "cell_type": "code",
   "execution_count": null,
   "metadata": {},
   "outputs": [],
   "source": [
    "newsdata.head()"
   ]
  },
  {
   "cell_type": "code",
   "execution_count": null,
   "metadata": {},
   "outputs": [],
   "source": [
    "con = pd.read_csv('news.csv',usecols=['text'])"
   ]
  },
  {
   "cell_type": "code",
   "execution_count": null,
   "metadata": {},
   "outputs": [],
   "source": [
    "record_num = int(newsdata.describe().ix[0,0])\n",
    "record_num "
   ]
  },
  {
   "cell_type": "code",
   "execution_count": null,
   "metadata": {},
   "outputs": [],
   "source": [
    "record_num = int(con.describe().ix[0,0])\n",
    "con.ix[9,0]\n",
    "xixi = []\n",
    "\n",
    "for i in range(record_num):\n",
    "    xixi.append(con.ix[i,0])\n",
    "    \n",
    "\n",
    "xixi"
   ]
  },
  {
   "cell_type": "code",
   "execution_count": null,
   "metadata": {},
   "outputs": [],
   "source": [
    "des = open('description1.txt','w',encoding='utf-8')\n",
    "for i in xixi:\n",
    "    des.write(i)\n",
    "    des.write('\\n')\n",
    "des.close()"
   ]
  },
  {
   "cell_type": "code",
   "execution_count": null,
   "metadata": {},
   "outputs": [],
   "source": [
    "def gettext():\n",
    "    txt = open(\"description1.txt\",\"r\",errors='ignore').read()\n",
    "    txt = txt.lower()\n",
    "    for ch in '!\"#$&()*+,-./:;<=>?@[\\\\]^_{|}·~‘’':\n",
    "        txt = txt.replace(ch,\"\")\n",
    "    return txt"
   ]
  },
  {
   "cell_type": "code",
   "execution_count": null,
   "metadata": {},
   "outputs": [],
   "source": [
    "txt = gettext()\n",
    "words = txt.split()\n",
    "type(words)\n",
    "counts = {}\n",
    "for word in words:\n",
    "    counts[word] = counts.get(word,0) + 1"
   ]
  },
  {
   "cell_type": "code",
   "execution_count": null,
   "metadata": {},
   "outputs": [],
   "source": [
    "items = list(counts.items())\n",
    "items.sort(key=lambda x:x[1],reverse=True)\n",
    "for i in range(100):\n",
    "    word,count = items[i]\n",
    "    print(\"{0:<10}{1:>5}\".format(word,count))"
   ]
  }
 ],
 "metadata": {
  "kernelspec": {
   "display_name": "Python 3",
   "language": "python",
   "name": "python3"
  },
  "language_info": {
   "codemirror_mode": {
    "name": "ipython",
    "version": 3
   },
   "file_extension": ".py",
   "mimetype": "text/x-python",
   "name": "python",
   "nbconvert_exporter": "python",
   "pygments_lexer": "ipython3",
   "version": "3.7.3"
  }
 },
 "nbformat": 4,
 "nbformat_minor": 2
}
